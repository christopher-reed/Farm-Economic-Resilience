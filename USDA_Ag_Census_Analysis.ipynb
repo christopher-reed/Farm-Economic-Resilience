{
  "nbformat": 4,
  "nbformat_minor": 0,
  "metadata": {
    "colab": {
      "name": "USDA Ag Census Analysis",
      "version": "0.3.2",
      "provenance": [],
      "collapsed_sections": [
        "Vc6L6T2XYsGj",
        "6V3oQh8VeTG-",
        "X1w_XNQ1lKKu"
      ],
      "toc_visible": true
    },
    "kernelspec": {
      "name": "python3",
      "display_name": "Python 3"
    }
  },
  "cells": [
    {
      "cell_type": "markdown",
      "metadata": {
        "id": "Vc6L6T2XYsGj",
        "colab_type": "text"
      },
      "source": [
        "# Introduction\n",
        "This notebook contains data analysis to support my investigation into the USDA Ag Census. The aim of this project was to draw insight from the USDA Ag Census that is useful for General Mills' sustainability team. \n",
        "\n",
        "I focused on three aspects of the USDA Ag Census\n",
        "\n",
        "\n",
        "1.   Organic agriculture\n",
        "2.   Characteristic of producers\n",
        "3.  Farming operations operating at gains and losses\n",
        "\n",
        "\n",
        "\n",
        "All the data in this notebook is obtained using the USDA NASS Quick Stats API interface or through the Census Data Query Tool. USDA NASS Quick Stats can be found here: https://quickstats.nass.usda.gov/. Information regarding the API can be found here: https://quickstats.nass.usda.gov/api. The Census Data Query Tool can be found here: https://www.nass.usda.gov/Quick_Stats/"
      ]
    },
    {
      "cell_type": "code",
      "metadata": {
        "id": "hXxBXseoY0Bj",
        "colab_type": "code",
        "colab": {}
      },
      "source": [
        "#Load packages\n",
        "import pandas as pd\n",
        "import numpy as np\n",
        "import matplotlib.pyplot as plt\n",
        "from matplotlib.ticker import PercentFormatter\n",
        "import requests, json\n",
        "import seaborn as sns\n",
        "import copy"
      ],
      "execution_count": 0,
      "outputs": []
    },
    {
      "cell_type": "markdown",
      "metadata": {
        "id": "6V3oQh8VeTG-",
        "colab_type": "text"
      },
      "source": [
        "# Organic Agriculture at a Glance\n",
        "The natural and organic branch of General Mills is interested in identifying interesting trends and findings regarding organic agriculture. In this section I focused on...\n",
        "\n",
        "\n",
        "*   Age of organic farmers\n",
        "*   Days worked off farm for organic farmers\n",
        "* Primary occupation of organic farmers\n",
        "* The number of organic operations\n",
        "* Sales of organic goods\n",
        "\n",
        "Since the data of interest covers a broad range of categories I used the USDA CDQT. You can download the tables as csv fiels. [Census Table 51](https://www.nass.usda.gov/Quick_Stats/CDQT/chapter/1/table/51/state/US) contains all the information regarding organic farmers."
      ]
    },
    {
      "cell_type": "markdown",
      "metadata": {
        "id": "KV4anN35csL8",
        "colab_type": "text"
      },
      "source": [
        "**Read in the data and do some preliminary formatting.**"
      ]
    },
    {
      "cell_type": "code",
      "metadata": {
        "id": "okQE8zsAY-t6",
        "colab_type": "code",
        "outputId": "efab407d-607f-4b92-89b4-148524723f4a",
        "colab": {
          "base_uri": "https://localhost:8080/",
          "height": 197
        }
      },
      "source": [
        "#Read in data\n",
        "df_org = pd.read_csv('Organic Agriculture Pull CDQT.csv')\n",
        "\n",
        "#Drop unwanted columns\n",
        "df_org = df_org.drop(['state fips', 'county', 'county code'], axis = 1)\n",
        "\n",
        "#Fill na with -9999 so nan does not interfere with removing commas and converting to numeric\n",
        "df_org = df_org.fillna(-9999)\n",
        "\n",
        "#Format values to numeric and remove commas\n",
        "years = ['2017', '2012', '2007', '1997']\n",
        "for y in years:\n",
        "  df_org[y] = pd.to_numeric(df_org[y].astype(str).str.replace(',',''))\n",
        "\n",
        "#Inspect\n",
        "df_org.head()"
      ],
      "execution_count": 67,
      "outputs": [
        {
          "output_type": "execute_result",
          "data": {
            "text/html": [
              "<div>\n",
              "<style scoped>\n",
              "    .dataframe tbody tr th:only-of-type {\n",
              "        vertical-align: middle;\n",
              "    }\n",
              "\n",
              "    .dataframe tbody tr th {\n",
              "        vertical-align: top;\n",
              "    }\n",
              "\n",
              "    .dataframe thead th {\n",
              "        text-align: right;\n",
              "    }\n",
              "</style>\n",
              "<table border=\"1\" class=\"dataframe\">\n",
              "  <thead>\n",
              "    <tr style=\"text-align: right;\">\n",
              "      <th></th>\n",
              "      <th>state</th>\n",
              "      <th>commodity</th>\n",
              "      <th>data item</th>\n",
              "      <th>domain category</th>\n",
              "      <th>2017</th>\n",
              "      <th>2012</th>\n",
              "      <th>2007</th>\n",
              "      <th>2002</th>\n",
              "      <th>1997</th>\n",
              "    </tr>\n",
              "  </thead>\n",
              "  <tbody>\n",
              "    <tr>\n",
              "      <th>0</th>\n",
              "      <td>US TOTAL</td>\n",
              "      <td>COMMODITY TOTALS</td>\n",
              "      <td>COMMODITY TOTALS, ORGANIC - OPERATIONS WITH SALES</td>\n",
              "      <td>-9999</td>\n",
              "      <td>-9999.0</td>\n",
              "      <td>-9999</td>\n",
              "      <td>-9999</td>\n",
              "      <td>-9999.0</td>\n",
              "      <td>-9999.0</td>\n",
              "    </tr>\n",
              "    <tr>\n",
              "      <th>1</th>\n",
              "      <td>US TOTAL</td>\n",
              "      <td>COMMODITY TOTALS</td>\n",
              "      <td>COMMODITY TOTALS, ORGANIC - OPERATIONS WITH SALES</td>\n",
              "      <td>ORGANIC STATUS: (NOP USDA CERTIFIED &amp; EXEMPT)</td>\n",
              "      <td>18166.0</td>\n",
              "      <td>14326</td>\n",
              "      <td>-9999</td>\n",
              "      <td>-9999.0</td>\n",
              "      <td>-9999.0</td>\n",
              "    </tr>\n",
              "    <tr>\n",
              "      <th>2</th>\n",
              "      <td>US TOTAL</td>\n",
              "      <td>COMMODITY TOTALS</td>\n",
              "      <td>COMMODITY TOTALS, ORGANIC - OPERATIONS WITH SALES</td>\n",
              "      <td>ORGANIC STATUS: (NOP USDA CERTIFIED &amp; EXEMPT) AND SALES: (LESS THAN 5,000 $)</td>\n",
              "      <td>3867.0</td>\n",
              "      <td>4289</td>\n",
              "      <td>-9999</td>\n",
              "      <td>-9999.0</td>\n",
              "      <td>-9999.0</td>\n",
              "    </tr>\n",
              "    <tr>\n",
              "      <th>3</th>\n",
              "      <td>US TOTAL</td>\n",
              "      <td>COMMODITY TOTALS</td>\n",
              "      <td>COMMODITY TOTALS, ORGANIC - OPERATIONS WITH SALES</td>\n",
              "      <td>ORGANIC STATUS: (NOP USDA CERTIFIED &amp; EXEMPT) AND SALES: (5,000 TO 9,999 $)</td>\n",
              "      <td>1470.0</td>\n",
              "      <td>1116</td>\n",
              "      <td>-9999</td>\n",
              "      <td>-9999.0</td>\n",
              "      <td>-9999.0</td>\n",
              "    </tr>\n",
              "    <tr>\n",
              "      <th>4</th>\n",
              "      <td>US TOTAL</td>\n",
              "      <td>COMMODITY TOTALS</td>\n",
              "      <td>COMMODITY TOTALS, ORGANIC - OPERATIONS WITH SALES</td>\n",
              "      <td>ORGANIC STATUS: (NOP USDA CERTIFIED &amp; EXEMPT) AND SALES: (10,000 TO 24,999 $)</td>\n",
              "      <td>2137.0</td>\n",
              "      <td>1706</td>\n",
              "      <td>-9999</td>\n",
              "      <td>-9999.0</td>\n",
              "      <td>-9999.0</td>\n",
              "    </tr>\n",
              "  </tbody>\n",
              "</table>\n",
              "</div>"
            ],
            "text/plain": [
              "      state         commodity  ...    2002    1997\n",
              "0  US TOTAL  COMMODITY TOTALS  ... -9999.0 -9999.0\n",
              "1  US TOTAL  COMMODITY TOTALS  ... -9999.0 -9999.0\n",
              "2  US TOTAL  COMMODITY TOTALS  ... -9999.0 -9999.0\n",
              "3  US TOTAL  COMMODITY TOTALS  ... -9999.0 -9999.0\n",
              "4  US TOTAL  COMMODITY TOTALS  ... -9999.0 -9999.0\n",
              "\n",
              "[5 rows x 9 columns]"
            ]
          },
          "metadata": {
            "tags": []
          },
          "execution_count": 67
        }
      ]
    },
    {
      "cell_type": "markdown",
      "metadata": {
        "id": "0DsFn5fnfCdP",
        "colab_type": "text"
      },
      "source": [
        "**First goal is to make a pie chart of all the ages of organic farmers**"
      ]
    },
    {
      "cell_type": "code",
      "metadata": {
        "id": "uJPeSazEe7Qs",
        "colab_type": "code",
        "outputId": "5b2df144-f58f-41ae-a9a0-01a8269db830",
        "colab": {
          "base_uri": "https://localhost:8080/",
          "height": 197
        }
      },
      "source": [
        "#Filter to ages\n",
        "df_org_ages = df_org[(df_org['data item'].str.contains('AGE')) & (df_org['domain category'].str.contains('ORG'))]\n",
        "df_org_ages = df_org_ages.reset_index(drop = True)\n",
        "\n",
        "#Last row contained average age which we will use later\n",
        "avg_age = df_org_ages.iloc[-1]\n",
        "\n",
        "#Remvoe last entry\n",
        "df_org_ages = df_org_ages.iloc[:-1]\n",
        "\n",
        "#Inspect\n",
        "df_org_ages.head()"
      ],
      "execution_count": 68,
      "outputs": [
        {
          "output_type": "execute_result",
          "data": {
            "text/html": [
              "<div>\n",
              "<style scoped>\n",
              "    .dataframe tbody tr th:only-of-type {\n",
              "        vertical-align: middle;\n",
              "    }\n",
              "\n",
              "    .dataframe tbody tr th {\n",
              "        vertical-align: top;\n",
              "    }\n",
              "\n",
              "    .dataframe thead th {\n",
              "        text-align: right;\n",
              "    }\n",
              "</style>\n",
              "<table border=\"1\" class=\"dataframe\">\n",
              "  <thead>\n",
              "    <tr style=\"text-align: right;\">\n",
              "      <th></th>\n",
              "      <th>state</th>\n",
              "      <th>commodity</th>\n",
              "      <th>data item</th>\n",
              "      <th>domain category</th>\n",
              "      <th>2017</th>\n",
              "      <th>2012</th>\n",
              "      <th>2007</th>\n",
              "      <th>2002</th>\n",
              "      <th>1997</th>\n",
              "    </tr>\n",
              "  </thead>\n",
              "  <tbody>\n",
              "    <tr>\n",
              "      <th>0</th>\n",
              "      <td>US TOTAL</td>\n",
              "      <td>PRODUCERS</td>\n",
              "      <td>PRODUCERS, AGE LT 25 - NUMBER OF PRODUCERS</td>\n",
              "      <td>ORGANIC STATUS: (NOP USDA CERTIFIED &amp; EXEMPT)</td>\n",
              "      <td>1320.0</td>\n",
              "      <td>-9999</td>\n",
              "      <td>-9999</td>\n",
              "      <td>-9999.0</td>\n",
              "      <td>-9999.0</td>\n",
              "    </tr>\n",
              "    <tr>\n",
              "      <th>1</th>\n",
              "      <td>US TOTAL</td>\n",
              "      <td>PRODUCERS</td>\n",
              "      <td>PRODUCERS, AGE 25 TO 34 - NUMBER OF PRODUCERS</td>\n",
              "      <td>ORGANIC STATUS: (NOP USDA CERTIFIED &amp; EXEMPT)</td>\n",
              "      <td>5586.0</td>\n",
              "      <td>-9999</td>\n",
              "      <td>-9999</td>\n",
              "      <td>-9999.0</td>\n",
              "      <td>-9999.0</td>\n",
              "    </tr>\n",
              "    <tr>\n",
              "      <th>2</th>\n",
              "      <td>US TOTAL</td>\n",
              "      <td>PRODUCERS</td>\n",
              "      <td>PRODUCERS, AGE 35 TO 44 - NUMBER OF PRODUCERS</td>\n",
              "      <td>ORGANIC STATUS: (NOP USDA CERTIFIED &amp; EXEMPT)</td>\n",
              "      <td>7099.0</td>\n",
              "      <td>-9999</td>\n",
              "      <td>-9999</td>\n",
              "      <td>-9999.0</td>\n",
              "      <td>-9999.0</td>\n",
              "    </tr>\n",
              "    <tr>\n",
              "      <th>3</th>\n",
              "      <td>US TOTAL</td>\n",
              "      <td>PRODUCERS</td>\n",
              "      <td>PRODUCERS, AGE 45 TO 54 - NUMBER OF PRODUCERS</td>\n",
              "      <td>ORGANIC STATUS: (NOP USDA CERTIFIED &amp; EXEMPT)</td>\n",
              "      <td>7082.0</td>\n",
              "      <td>-9999</td>\n",
              "      <td>-9999</td>\n",
              "      <td>-9999.0</td>\n",
              "      <td>-9999.0</td>\n",
              "    </tr>\n",
              "    <tr>\n",
              "      <th>4</th>\n",
              "      <td>US TOTAL</td>\n",
              "      <td>PRODUCERS</td>\n",
              "      <td>PRODUCERS, AGE 55 TO 64 - NUMBER OF PRODUCERS</td>\n",
              "      <td>ORGANIC STATUS: (NOP USDA CERTIFIED &amp; EXEMPT)</td>\n",
              "      <td>10071.0</td>\n",
              "      <td>-9999</td>\n",
              "      <td>-9999</td>\n",
              "      <td>-9999.0</td>\n",
              "      <td>-9999.0</td>\n",
              "    </tr>\n",
              "  </tbody>\n",
              "</table>\n",
              "</div>"
            ],
            "text/plain": [
              "      state  commodity  ...    2002    1997\n",
              "0  US TOTAL  PRODUCERS  ... -9999.0 -9999.0\n",
              "1  US TOTAL  PRODUCERS  ... -9999.0 -9999.0\n",
              "2  US TOTAL  PRODUCERS  ... -9999.0 -9999.0\n",
              "3  US TOTAL  PRODUCERS  ... -9999.0 -9999.0\n",
              "4  US TOTAL  PRODUCERS  ... -9999.0 -9999.0\n",
              "\n",
              "[5 rows x 9 columns]"
            ]
          },
          "metadata": {
            "tags": []
          },
          "execution_count": 68
        }
      ]
    },
    {
      "cell_type": "code",
      "metadata": {
        "id": "uC2poqLGfP-u",
        "colab_type": "code",
        "outputId": "4c02628a-5073-4e97-8a70-018ef55adec5",
        "colab": {
          "base_uri": "https://localhost:8080/",
          "height": 341
        }
      },
      "source": [
        "#Construct pie chart\n",
        "\n",
        "#Collect values and contruct labels\n",
        "values = df_org_ages['2017'].values\n",
        "labels = ['Under 25', '25 to 34', '35 to 44', '45 to 54', '55 to 64', '65 to 74', '75 and over']\n",
        "\n",
        "#Create figure\n",
        "fig, ax = plt.subplots(figsize = (5,5))\n",
        "\n",
        "#Create spacing between pie slices\n",
        "explode = (0.05, 0.05, 0.05, 0.05, 0.05, 0.05, 0.05)\n",
        "\n",
        "#Plot outer piechart\n",
        "ax.pie(x = values, labels = labels, autopct = '%1.1f%%', pctdistance = 0.83, explode = explode,\n",
        "        colors = ['lightcoral', 'orangered', 'goldenrod', 'bisque', 'mediumseagreen', 'lightblue', 'orchid'])\n",
        "\n",
        "#Draw white circle in center\n",
        "center_circle = plt.Circle((0,0),0.70,fc='white')\n",
        "fig = plt.gcf()\n",
        "fig.gca().add_artist(center_circle)\n",
        "\n",
        "#Add average age text\n",
        "ax.text(0,-0.15,'Avg. Age\\n51.3', fontsize = 16, weight = 'bold', ha = ('center'))\n",
        "\n",
        "#Set title\n",
        "ax.set_title('Ages of Organic Farmers', fontsize = 16)"
      ],
      "execution_count": 69,
      "outputs": [
        {
          "output_type": "execute_result",
          "data": {
            "text/plain": [
              "Text(0.5, 1.0, 'Ages of Organic Farmers')"
            ]
          },
          "metadata": {
            "tags": []
          },
          "execution_count": 69
        },
        {
          "output_type": "display_data",
          "data": {
            "image/png": "[encoded data removed]",
            "text/plain": [
              "<Figure size 360x360 with 1 Axes>"
            ]
          },
          "metadata": {
            "tags": []
          }
        }
      ]
    },
    {
      "cell_type": "markdown",
      "metadata": {
        "id": "fVO1k8EnAJWw",
        "colab_type": "text"
      },
      "source": [
        "**The average age of an organic farmer is 51.3 years old in 2017. The plurality of farmers are 55 to 64 years old. There are very few young farmers (<34 years old).**\n",
        "\n",
        "\n",
        "\n",
        "---\n",
        "\n",
        "\n",
        "**The next goal is to get the breakdown of days worked off farm by organic farmers. This could be interesting when compared to the percent of organic farmers that consider farming to be their primary occupation. The data for this section comes from the same organic table in the CDQT.** "
      ]
    },
    {
      "cell_type": "code",
      "metadata": {
        "id": "5cBU7RzHhEwW",
        "colab_type": "code",
        "outputId": "ef731a17-51c9-4301-9dd5-fe5fe8f958a4",
        "colab": {
          "base_uri": "https://localhost:8080/",
          "height": 197
        }
      },
      "source": [
        "#Filter to days off farm\n",
        "df_org_days = df_org[(df_org['data item'].str.contains('DAYS WORKED')) & (df_org['domain category'].str.contains('ORG'))]\n",
        "df_org_days = df_org_days.reset_index(drop = True)\n",
        "\n",
        "#Inspect\n",
        "df_org_days.head()"
      ],
      "execution_count": 70,
      "outputs": [
        {
          "output_type": "execute_result",
          "data": {
            "text/html": [
              "<div>\n",
              "<style scoped>\n",
              "    .dataframe tbody tr th:only-of-type {\n",
              "        vertical-align: middle;\n",
              "    }\n",
              "\n",
              "    .dataframe tbody tr th {\n",
              "        vertical-align: top;\n",
              "    }\n",
              "\n",
              "    .dataframe thead th {\n",
              "        text-align: right;\n",
              "    }\n",
              "</style>\n",
              "<table border=\"1\" class=\"dataframe\">\n",
              "  <thead>\n",
              "    <tr style=\"text-align: right;\">\n",
              "      <th></th>\n",
              "      <th>state</th>\n",
              "      <th>commodity</th>\n",
              "      <th>data item</th>\n",
              "      <th>domain category</th>\n",
              "      <th>2017</th>\n",
              "      <th>2012</th>\n",
              "      <th>2007</th>\n",
              "      <th>2002</th>\n",
              "      <th>1997</th>\n",
              "    </tr>\n",
              "  </thead>\n",
              "  <tbody>\n",
              "    <tr>\n",
              "      <th>0</th>\n",
              "      <td>US TOTAL</td>\n",
              "      <td>PRODUCERS</td>\n",
              "      <td>PRODUCERS, DAYS WORKED OFF OPERATION, 0 DAYS - NUMBER OF PRODUCERS</td>\n",
              "      <td>ORGANIC STATUS: (NOP USDA CERTIFIED &amp; EXEMPT)</td>\n",
              "      <td>19098.0</td>\n",
              "      <td>-9999</td>\n",
              "      <td>-9999</td>\n",
              "      <td>-9999.0</td>\n",
              "      <td>-9999.0</td>\n",
              "    </tr>\n",
              "    <tr>\n",
              "      <th>1</th>\n",
              "      <td>US TOTAL</td>\n",
              "      <td>PRODUCERS</td>\n",
              "      <td>PRODUCERS, DAYS WORKED OFF OPERATION, GE 1 DAYS - NUMBER OF PRODUCERS</td>\n",
              "      <td>ORGANIC STATUS: (NOP USDA CERTIFIED &amp; EXEMPT)</td>\n",
              "      <td>20588.0</td>\n",
              "      <td>-9999</td>\n",
              "      <td>-9999</td>\n",
              "      <td>-9999.0</td>\n",
              "      <td>-9999.0</td>\n",
              "    </tr>\n",
              "    <tr>\n",
              "      <th>2</th>\n",
              "      <td>US TOTAL</td>\n",
              "      <td>PRODUCERS</td>\n",
              "      <td>PRODUCERS, DAYS WORKED OFF OPERATION, 1 TO 49 DAYS - NUMBER OF PRODUCERS</td>\n",
              "      <td>ORGANIC STATUS: (NOP USDA CERTIFIED &amp; EXEMPT)</td>\n",
              "      <td>4800.0</td>\n",
              "      <td>-9999</td>\n",
              "      <td>-9999</td>\n",
              "      <td>-9999.0</td>\n",
              "      <td>-9999.0</td>\n",
              "    </tr>\n",
              "    <tr>\n",
              "      <th>3</th>\n",
              "      <td>US TOTAL</td>\n",
              "      <td>PRODUCERS</td>\n",
              "      <td>PRODUCERS, DAYS WORKED OFF OPERATION, 50 TO 99 DAYS - NUMBER OF PRODUCERS</td>\n",
              "      <td>ORGANIC STATUS: (NOP USDA CERTIFIED &amp; EXEMPT)</td>\n",
              "      <td>2081.0</td>\n",
              "      <td>-9999</td>\n",
              "      <td>-9999</td>\n",
              "      <td>-9999.0</td>\n",
              "      <td>-9999.0</td>\n",
              "    </tr>\n",
              "    <tr>\n",
              "      <th>4</th>\n",
              "      <td>US TOTAL</td>\n",
              "      <td>PRODUCERS</td>\n",
              "      <td>PRODUCERS, DAYS WORKED OFF OPERATION, 100 TO 199 DAYS - NUMBER OF PRODUCERS</td>\n",
              "      <td>ORGANIC STATUS: (NOP USDA CERTIFIED &amp; EXEMPT)</td>\n",
              "      <td>3391.0</td>\n",
              "      <td>-9999</td>\n",
              "      <td>-9999</td>\n",
              "      <td>-9999.0</td>\n",
              "      <td>-9999.0</td>\n",
              "    </tr>\n",
              "  </tbody>\n",
              "</table>\n",
              "</div>"
            ],
            "text/plain": [
              "      state  commodity  ...    2002    1997\n",
              "0  US TOTAL  PRODUCERS  ... -9999.0 -9999.0\n",
              "1  US TOTAL  PRODUCERS  ... -9999.0 -9999.0\n",
              "2  US TOTAL  PRODUCERS  ... -9999.0 -9999.0\n",
              "3  US TOTAL  PRODUCERS  ... -9999.0 -9999.0\n",
              "4  US TOTAL  PRODUCERS  ... -9999.0 -9999.0\n",
              "\n",
              "[5 rows x 9 columns]"
            ]
          },
          "metadata": {
            "tags": []
          },
          "execution_count": 70
        }
      ]
    },
    {
      "cell_type": "code",
      "metadata": {
        "id": "RKlb0CxQla0q",
        "colab_type": "code",
        "outputId": "6233637a-d17d-4681-f6d3-5e047ce85c5b",
        "colab": {
          "base_uri": "https://localhost:8080/",
          "height": 341
        }
      },
      "source": [
        "#Construct pie chart for days worked off farm for organic farmers\n",
        "\n",
        "#Collect values and contruct pie chart\n",
        "values = df_org_days['2017'].values\n",
        "labels = ['0 days', '1 day', '1 to 49 days', '50 to 99 days', '100 to 199 days', 'Over 200 days']\n",
        "\n",
        "#Create figure\n",
        "fig, ax = plt.subplots(figsize = (5,5))\n",
        "\n",
        "#Create spacing between pie slices\n",
        "explode = (0.05, 0.05, 0.05, 0.05, 0.05, 0.05)\n",
        "\n",
        "#Plot pie chart\n",
        "ax.pie(x = values, labels = labels, autopct = '%1.1f%%', pctdistance = 0.83, explode = explode,\n",
        "        colors = ['lightcoral', 'orangered', 'goldenrod', 'bisque', 'mediumseagreen', 'lightblue', 'orchid'])\n",
        "  \n",
        "#Draw white circle\n",
        "center_circle = plt.Circle((0,0),0.70,fc='white')\n",
        "fig = plt.gcf()\n",
        "fig.gca().add_artist(center_circle)\n",
        "\n",
        "#Set the title\n",
        "ax.set_title('Organic Farmers Days Worked Off Farm', fontsize = 16)"
      ],
      "execution_count": 71,
      "outputs": [
        {
          "output_type": "execute_result",
          "data": {
            "text/plain": [
              "Text(0.5, 1.0, 'Organic Farmers Days Worked Off Farm')"
            ]
          },
          "metadata": {
            "tags": []
          },
          "execution_count": 71
        },
        {
          "output_type": "display_data",
          "data": {
            "image/png": "[encoded data removed]",
            "text/plain": [
              "<Figure size 360x360 with 1 Axes>"
            ]
          },
          "metadata": {
            "tags": []
          }
        }
      ]
    },
    {
      "cell_type": "markdown",
      "metadata": {
        "id": "40eq2TbJCfYr",
        "colab_type": "text"
      },
      "source": [
        "**This graph suggests that the majority of organic farmers spend 1 day or less working off farm. This seems at odds with the notion that many farmers do not consider farming to be their primary profession. However, the third largest category is working over 200 days of farm. It appears that organic farmers either rarely work off farm or work off farm for the majority of the year.**\n",
        "\n",
        "\n",
        "\n",
        "---\n",
        "\n",
        "\n",
        "**The next goal is to confirm our hunch about the majority of organic farmers considering farming to be their primary occupation. We will again use the pie chart format.**"
      ]
    },
    {
      "cell_type": "code",
      "metadata": {
        "id": "uy5rQ9LLsDQb",
        "colab_type": "code",
        "outputId": "2f4c3253-c816-45d2-c300-c7845c41f9d2",
        "colab": {
          "base_uri": "https://localhost:8080/",
          "height": 107
        }
      },
      "source": [
        "#Filter to primary occupation data\n",
        "df_org_oc = df_org[(df_org['data item'].str.contains('PRIMARY')) & (df_org['domain category'].str.contains('ORG'))]\n",
        "df_org_oc = df_org_oc.reset_index(drop = True)\n",
        "\n",
        "#Inspect\n",
        "df_org_oc.head()"
      ],
      "execution_count": 72,
      "outputs": [
        {
          "output_type": "execute_result",
          "data": {
            "text/html": [
              "<div>\n",
              "<style scoped>\n",
              "    .dataframe tbody tr th:only-of-type {\n",
              "        vertical-align: middle;\n",
              "    }\n",
              "\n",
              "    .dataframe tbody tr th {\n",
              "        vertical-align: top;\n",
              "    }\n",
              "\n",
              "    .dataframe thead th {\n",
              "        text-align: right;\n",
              "    }\n",
              "</style>\n",
              "<table border=\"1\" class=\"dataframe\">\n",
              "  <thead>\n",
              "    <tr style=\"text-align: right;\">\n",
              "      <th></th>\n",
              "      <th>state</th>\n",
              "      <th>commodity</th>\n",
              "      <th>data item</th>\n",
              "      <th>domain category</th>\n",
              "      <th>2017</th>\n",
              "      <th>2012</th>\n",
              "      <th>2007</th>\n",
              "      <th>2002</th>\n",
              "      <th>1997</th>\n",
              "    </tr>\n",
              "  </thead>\n",
              "  <tbody>\n",
              "    <tr>\n",
              "      <th>0</th>\n",
              "      <td>US TOTAL</td>\n",
              "      <td>PRODUCERS</td>\n",
              "      <td>PRODUCERS, PRIMARY OCCUPATION, FARMING - NUMBER OF PRODUCERS</td>\n",
              "      <td>ORGANIC STATUS: (NOP USDA CERTIFIED &amp; EXEMPT)</td>\n",
              "      <td>25225.0</td>\n",
              "      <td>-9999</td>\n",
              "      <td>-9999</td>\n",
              "      <td>-9999.0</td>\n",
              "      <td>-9999.0</td>\n",
              "    </tr>\n",
              "    <tr>\n",
              "      <th>1</th>\n",
              "      <td>US TOTAL</td>\n",
              "      <td>PRODUCERS</td>\n",
              "      <td>PRODUCERS, PRIMARY OCCUPATION, (EXCL FARMING) - NUMBER OF PRODUCERS</td>\n",
              "      <td>ORGANIC STATUS: (NOP USDA CERTIFIED &amp; EXEMPT)</td>\n",
              "      <td>14461.0</td>\n",
              "      <td>-9999</td>\n",
              "      <td>-9999</td>\n",
              "      <td>-9999.0</td>\n",
              "      <td>-9999.0</td>\n",
              "    </tr>\n",
              "  </tbody>\n",
              "</table>\n",
              "</div>"
            ],
            "text/plain": [
              "      state  commodity  ...    2002    1997\n",
              "0  US TOTAL  PRODUCERS  ... -9999.0 -9999.0\n",
              "1  US TOTAL  PRODUCERS  ... -9999.0 -9999.0\n",
              "\n",
              "[2 rows x 9 columns]"
            ]
          },
          "metadata": {
            "tags": []
          },
          "execution_count": 72
        }
      ]
    },
    {
      "cell_type": "code",
      "metadata": {
        "id": "e6YREC475PbF",
        "colab_type": "code",
        "outputId": "5151a640-5528-413e-ece5-9c88f932957d",
        "colab": {
          "base_uri": "https://localhost:8080/",
          "height": 341
        }
      },
      "source": [
        "#Construct pie chart of whether organic farmers consider farming to be their primary occupation.\n",
        "\n",
        "#Collect values and construct pie chart\n",
        "values = df_org_oc['2017'].values\n",
        "labels = ['Primary Occupation', 'Not Primary Occupation']\n",
        "\n",
        "#Construct figure\n",
        "fig, ax = plt.subplots(figsize = (5,5))\n",
        "\n",
        "#Create spaces between slices of pie chart\n",
        "explode = (0.05, 0.05)\n",
        "\n",
        "#Plot pie chart\n",
        "ax.pie(x = values, labels = labels, autopct = '%1.1f%%', pctdistance = 0.83, explode = explode,\n",
        "        colors = ['palegreen', 'salmon'], textprops = {'fontsize':12})\n",
        "\n",
        "#Draw white circle\n",
        "center_circle = plt.Circle((0,0),0.70,fc='white')\n",
        "fig = plt.gcf()\n",
        "fig.gca().add_artist(center_circle)\n",
        "\n",
        "#Set the title\n",
        "ax.set_title('Organic Farmers Primary Occupation', fontsize = 16)"
      ],
      "execution_count": 73,
      "outputs": [
        {
          "output_type": "execute_result",
          "data": {
            "text/plain": [
              "Text(0.5, 1.0, 'Organic Farmers Primary Occupation')"
            ]
          },
          "metadata": {
            "tags": []
          },
          "execution_count": 73
        },
        {
          "output_type": "display_data",
          "data": {
            "image/png": "[encoded data removed]",
            "text/plain": [
              "<Figure size 360x360 with 1 Axes>"
            ]
          },
          "metadata": {
            "tags": []
          }
        }
      ]
    },
    {
      "cell_type": "markdown",
      "metadata": {
        "id": "xxs2hXOpExuZ",
        "colab_type": "text"
      },
      "source": [
        "**The majority of organic farmers consider farming to be their primary occupation. What is it about organic farming that allows farmers that participate in it to consider it their primary occupation? Is it more lucrative than conventional farming? Are there lower expenses?**\n",
        "\n",
        "\n",
        "\n",
        "---\n",
        "\n",
        "\n",
        "**The next investigation will be about the organic sales and the number of organic operations. How have these changed over time?**\n",
        "\n"
      ]
    },
    {
      "cell_type": "code",
      "metadata": {
        "id": "RgEv0BOl1wxl",
        "colab_type": "code",
        "outputId": "2f5f8f9f-e2db-45b9-e52d-6795b7446ac2",
        "colab": {
          "base_uri": "https://localhost:8080/",
          "height": 137
        }
      },
      "source": [
        "#Filter to number of operations, total sales, and sales per operation\n",
        "df_org_sales = df_org[(df_org['data item'].str.contains('SALES')) & (df_org['domain category'] == 'ORGANIC STATUS: (NOP USDA CERTIFIED & EXEMPT)')]\n",
        "df_org_sales = df_org_sales.reset_index(drop = True)\n",
        "\n",
        "#Inspect\n",
        "df_org_sales.head()"
      ],
      "execution_count": 74,
      "outputs": [
        {
          "output_type": "execute_result",
          "data": {
            "text/html": [
              "<div>\n",
              "<style scoped>\n",
              "    .dataframe tbody tr th:only-of-type {\n",
              "        vertical-align: middle;\n",
              "    }\n",
              "\n",
              "    .dataframe tbody tr th {\n",
              "        vertical-align: top;\n",
              "    }\n",
              "\n",
              "    .dataframe thead th {\n",
              "        text-align: right;\n",
              "    }\n",
              "</style>\n",
              "<table border=\"1\" class=\"dataframe\">\n",
              "  <thead>\n",
              "    <tr style=\"text-align: right;\">\n",
              "      <th></th>\n",
              "      <th>state</th>\n",
              "      <th>commodity</th>\n",
              "      <th>data item</th>\n",
              "      <th>domain category</th>\n",
              "      <th>2017</th>\n",
              "      <th>2012</th>\n",
              "      <th>2007</th>\n",
              "      <th>2002</th>\n",
              "      <th>1997</th>\n",
              "    </tr>\n",
              "  </thead>\n",
              "  <tbody>\n",
              "    <tr>\n",
              "      <th>0</th>\n",
              "      <td>US TOTAL</td>\n",
              "      <td>COMMODITY TOTALS</td>\n",
              "      <td>COMMODITY TOTALS, ORGANIC - OPERATIONS WITH SALES</td>\n",
              "      <td>ORGANIC STATUS: (NOP USDA CERTIFIED &amp; EXEMPT)</td>\n",
              "      <td>1.816600e+04</td>\n",
              "      <td>14326</td>\n",
              "      <td>-9999</td>\n",
              "      <td>-9999.0</td>\n",
              "      <td>-9999.0</td>\n",
              "    </tr>\n",
              "    <tr>\n",
              "      <th>1</th>\n",
              "      <td>US TOTAL</td>\n",
              "      <td>COMMODITY TOTALS</td>\n",
              "      <td>COMMODITY TOTALS, ORGANIC - SALES, MEASURED IN $</td>\n",
              "      <td>ORGANIC STATUS: (NOP USDA CERTIFIED &amp; EXEMPT)</td>\n",
              "      <td>7.277350e+09</td>\n",
              "      <td>3120717000</td>\n",
              "      <td>-9999</td>\n",
              "      <td>-9999.0</td>\n",
              "      <td>-9999.0</td>\n",
              "    </tr>\n",
              "    <tr>\n",
              "      <th>2</th>\n",
              "      <td>US TOTAL</td>\n",
              "      <td>COMMODITY TOTALS</td>\n",
              "      <td>COMMODITY TOTALS, ORGANIC - SALES, MEASURED IN $ / OPERATION</td>\n",
              "      <td>ORGANIC STATUS: (NOP USDA CERTIFIED &amp; EXEMPT)</td>\n",
              "      <td>4.006030e+05</td>\n",
              "      <td>-9999</td>\n",
              "      <td>-9999</td>\n",
              "      <td>-9999.0</td>\n",
              "      <td>-9999.0</td>\n",
              "    </tr>\n",
              "  </tbody>\n",
              "</table>\n",
              "</div>"
            ],
            "text/plain": [
              "      state         commodity  ...    2002    1997\n",
              "0  US TOTAL  COMMODITY TOTALS  ... -9999.0 -9999.0\n",
              "1  US TOTAL  COMMODITY TOTALS  ... -9999.0 -9999.0\n",
              "2  US TOTAL  COMMODITY TOTALS  ... -9999.0 -9999.0\n",
              "\n",
              "[3 rows x 9 columns]"
            ]
          },
          "metadata": {
            "tags": []
          },
          "execution_count": 74
        }
      ]
    },
    {
      "cell_type": "code",
      "metadata": {
        "id": "d69Y2bd8bxld",
        "colab_type": "code",
        "outputId": "797f5852-442b-4283-ebbb-3b767a6c0879",
        "colab": {
          "base_uri": "https://localhost:8080/",
          "height": 374
        }
      },
      "source": [
        "#Create a barplot for the number of organic operations\n",
        "\n",
        "#Filter to number of operations\n",
        "operations = df_org_sales.iloc[0][5:7].values[::-1]\n",
        "\n",
        "#Create figure\n",
        "fig, ax = plt.subplots(figsize = (5,5))\n",
        "\n",
        "#Plot barplot\n",
        "ax.bar(x = [0,0.5], height = operations, width = 0.35, color = 'salmon')\n",
        "\n",
        "#Format xticks and xtick labels\n",
        "ax.set_xticks([0,0.5])\n",
        "ax.set_xticklabels(['2012', '2017'])\n",
        "\n",
        "#Format yticks and ytick labels\n",
        "ax.set_yticks([0,5000,10000,15000,20000])\n",
        "ax.set_yticklabels(['0', '50,00', '10,000', '15,000', '20,000'])\n",
        "\n",
        "#Format axis labels and title\n",
        "ax.set_ylabel('Number of Operations', fontsize = 12, labelpad = 15)\n",
        "ax.set_title('Number of Operations with Organic Sales Reported to USDA Census', pad = 25, fontsize = 16)"
      ],
      "execution_count": 75,
      "outputs": [
        {
          "output_type": "execute_result",
          "data": {
            "text/plain": [
              "Text(0.5, 1.0, 'Number of Operations with Organic Sales Reported to USDA Census')"
            ]
          },
          "metadata": {
            "tags": []
          },
          "execution_count": 75
        },
        {
          "output_type": "display_data",
          "data": {
            "image/png": "[encoded data removed]",
            "text/plain": [
              "<Figure size 360x360 with 1 Axes>"
            ]
          },
          "metadata": {
            "tags": []
          }
        }
      ]
    },
    {
      "cell_type": "markdown",
      "metadata": {
        "id": "dcQf8PIRU86j",
        "colab_type": "text"
      },
      "source": [
        "**In 2017 there were about 18,000 organic operations. In the span of 5 years, the number of organic operations increased by almost 27%. For context, there are about 2.2 million farms in the US as of 2017. A growth of 27% seems quite fast. We will want to compare this to the growth rate of all farms.**\n",
        "\n",
        "\n",
        "\n",
        "---\n",
        "\n",
        "**The next step is to look at the sales of organic agricultural goods and how they changed over time.**"
      ]
    },
    {
      "cell_type": "code",
      "metadata": {
        "id": "4txUVmP8ey85",
        "colab_type": "code",
        "outputId": "9dd2db1b-795d-4079-cc43-e438b0f07745",
        "colab": {
          "base_uri": "https://localhost:8080/",
          "height": 374
        }
      },
      "source": [
        "#Sales bar graphs\n",
        "\n",
        "\n",
        "#Filter to sales\n",
        "sales = df_org_sales.iloc[1][5:7].values[::-1]\n",
        "\n",
        "#Create figure\n",
        "fig, ax = plt.subplots(figsize = (5,5))\n",
        "\n",
        "#Plot barplot\n",
        "ax.bar(x = [0,0.5], height = sales, width = 0.35, color = 'slategray')\n",
        "\n",
        "#Format x and y ticks and labels\n",
        "ax.set_xticks([0,0.5])\n",
        "ax.set_xticklabels(['2012', '2017'])\n",
        "ax.set_yticks([0,2000000000,4000000000,6000000000,8000000000])\n",
        "ax.set_yticklabels(['0', '2', '4', '6', '8'])\n",
        "\n",
        "#Format axis labels and title\n",
        "ax.set_ylabel('Yearly Sales (Billion USD)', fontsize = 13, labelpad = 15)\n",
        "ax.set_title(' Yearly Organic Sales From Farms Reported to USDA Census', pad = 25, fontsize = 16)"
      ],
      "execution_count": 76,
      "outputs": [
        {
          "output_type": "execute_result",
          "data": {
            "text/plain": [
              "Text(0.5, 1.0, ' Yearly Organic Sales From Farms Reported to USDA Census')"
            ]
          },
          "metadata": {
            "tags": []
          },
          "execution_count": 76
        },
        {
          "output_type": "display_data",
          "data": {
            "image/png": "[encoded data removed]",
            "text/plain": [
              "<Figure size 360x360 with 1 Axes>"
            ]
          },
          "metadata": {
            "tags": []
          }
        }
      ]
    },
    {
      "cell_type": "markdown",
      "metadata": {
        "id": "daftoXhqWcJz",
        "colab_type": "text"
      },
      "source": [
        "**There was massive growth in organic sales from 2012 to 2017. Sales more than doubled over this 5 year span. Again, the total organic sales makes up a miniscule fraction of the sales of all agricultural goods. However, the rapid growth of this secotr is promosing for organic brands and products.**"
      ]
    },
    {
      "cell_type": "markdown",
      "metadata": {
        "id": "X1w_XNQ1lKKu",
        "colab_type": "text"
      },
      "source": [
        "# Conventional Producer Characteristics\n",
        "\n",
        "The goal of this section to look at the characteristics of conventional producers and operations. We can compare these against the characteristics of organic producers and operations which we just looked at. This analysis will provide context for the organic findings.\n",
        "\n",
        "Topics covered include...\n",
        "*   Age of organic farmers\n",
        "*   Days worked off farm for organic farmers\n",
        "* Primary occupation of organic farmers\n",
        "* The number of organic operations\n",
        "* Sales of organic goods\n",
        "\n",
        "The data for this analysis was pulled from USDA CDQT. Producer characteristics can be found in [Table 52](https://www.nass.usda.gov/Quick_Stats/CDQT/chapter/1/table/52/state/US) and sales and operations data can be found in [Table 1](https://www.nass.usda.gov/Quick_Stats/CDQT/chapter/1/table/1/state/US)."
      ]
    },
    {
      "cell_type": "markdown",
      "metadata": {
        "id": "qoyBYZLib_od",
        "colab_type": "text"
      },
      "source": [
        "**Read in data and do preliminary formatting.**"
      ]
    },
    {
      "cell_type": "code",
      "metadata": {
        "id": "YG_ky27IFuNM",
        "colab_type": "code",
        "outputId": "7fbf090b-ff07-4401-a373-26963d77e320",
        "colab": {
          "base_uri": "https://localhost:8080/",
          "height": 197
        }
      },
      "source": [
        "#Read in data\n",
        "df_producer = pd.read_csv('Producer Characteristics Pull CDQT.csv')\n",
        "\n",
        "#Drop unwanted columns\n",
        "df_producer = df_producer.drop(['state fips', 'county', 'county code', 'domain category'], axis = 1)\n",
        "\n",
        "#Fill na with -9999 so nan does not interfere with removing commas and converting to numeric\n",
        "df_producer = df_producer.fillna(-9999)\n",
        "\n",
        "#Format values to numeric and remove commas\n",
        "years = ['2017', '2012', '2007', '1997']\n",
        "for y in years:\n",
        "  df_producer[y] = pd.to_numeric(df_producer[y].astype(str).str.replace(',',''))\n",
        "\n",
        "#Inspect\n",
        "df_producer.head()"
      ],
      "execution_count": 77,
      "outputs": [
        {
          "output_type": "execute_result",
          "data": {
            "text/html": [
              "<div>\n",
              "<style scoped>\n",
              "    .dataframe tbody tr th:only-of-type {\n",
              "        vertical-align: middle;\n",
              "    }\n",
              "\n",
              "    .dataframe tbody tr th {\n",
              "        vertical-align: top;\n",
              "    }\n",
              "\n",
              "    .dataframe thead th {\n",
              "        text-align: right;\n",
              "    }\n",
              "</style>\n",
              "<table border=\"1\" class=\"dataframe\">\n",
              "  <thead>\n",
              "    <tr style=\"text-align: right;\">\n",
              "      <th></th>\n",
              "      <th>state</th>\n",
              "      <th>commodity</th>\n",
              "      <th>data item</th>\n",
              "      <th>2017</th>\n",
              "      <th>2012</th>\n",
              "      <th>2007</th>\n",
              "      <th>2002</th>\n",
              "      <th>1997</th>\n",
              "    </tr>\n",
              "  </thead>\n",
              "  <tbody>\n",
              "    <tr>\n",
              "      <th>0</th>\n",
              "      <td>US TOTAL</td>\n",
              "      <td>PRODUCERS</td>\n",
              "      <td>PRODUCERS - NUMBER OF PRODUCERS</td>\n",
              "      <td>3399834.0</td>\n",
              "      <td>-9999.0</td>\n",
              "      <td>-9999.0</td>\n",
              "      <td>-9999.0</td>\n",
              "      <td>-9999.0</td>\n",
              "    </tr>\n",
              "    <tr>\n",
              "      <th>1</th>\n",
              "      <td>US TOTAL</td>\n",
              "      <td>PRODUCERS, PRINCIPAL</td>\n",
              "      <td>PRODUCERS, PRINCIPAL - NUMBER OF PRODUCERS</td>\n",
              "      <td>2740453.0</td>\n",
              "      <td>-9999.0</td>\n",
              "      <td>-9999.0</td>\n",
              "      <td>-9999.0</td>\n",
              "      <td>-9999.0</td>\n",
              "    </tr>\n",
              "    <tr>\n",
              "      <th>2</th>\n",
              "      <td>US TOTAL</td>\n",
              "      <td>PRODUCERS, (EXCL PRINCIPAL)</td>\n",
              "      <td>PRODUCERS, (EXCL PRINCIPAL) - NUMBER OF PRODUCERS</td>\n",
              "      <td>659381.0</td>\n",
              "      <td>-9999.0</td>\n",
              "      <td>-9999.0</td>\n",
              "      <td>-9999.0</td>\n",
              "      <td>-9999.0</td>\n",
              "    </tr>\n",
              "    <tr>\n",
              "      <th>3</th>\n",
              "      <td>US TOTAL</td>\n",
              "      <td>PRODUCERS, PRIMARY</td>\n",
              "      <td>PRODUCERS, PRIMARY - NUMBER OF PRODUCERS</td>\n",
              "      <td>2042220.0</td>\n",
              "      <td>-9999.0</td>\n",
              "      <td>-9999.0</td>\n",
              "      <td>-9999.0</td>\n",
              "      <td>-9999.0</td>\n",
              "    </tr>\n",
              "    <tr>\n",
              "      <th>4</th>\n",
              "      <td>US TOTAL</td>\n",
              "      <td>PRODUCERS</td>\n",
              "      <td>PRODUCERS, MALE - NUMBER OF PRODUCERS</td>\n",
              "      <td>2172373.0</td>\n",
              "      <td>-9999.0</td>\n",
              "      <td>-9999.0</td>\n",
              "      <td>-9999.0</td>\n",
              "      <td>-9999.0</td>\n",
              "    </tr>\n",
              "  </tbody>\n",
              "</table>\n",
              "</div>"
            ],
            "text/plain": [
              "      state                    commodity  ...    2002    1997\n",
              "0  US TOTAL                    PRODUCERS  ... -9999.0 -9999.0\n",
              "1  US TOTAL         PRODUCERS, PRINCIPAL  ... -9999.0 -9999.0\n",
              "2  US TOTAL  PRODUCERS, (EXCL PRINCIPAL)  ... -9999.0 -9999.0\n",
              "3  US TOTAL           PRODUCERS, PRIMARY  ... -9999.0 -9999.0\n",
              "4  US TOTAL                    PRODUCERS  ... -9999.0 -9999.0\n",
              "\n",
              "[5 rows x 8 columns]"
            ]
          },
          "metadata": {
            "tags": []
          },
          "execution_count": 77
        }
      ]
    },
    {
      "cell_type": "markdown",
      "metadata": {
        "id": "cj3ZPXvacMQg",
        "colab_type": "text"
      },
      "source": [
        "**As with organic farmers, age will be the first characteristic to examine.**"
      ]
    },
    {
      "cell_type": "code",
      "metadata": {
        "id": "L8CDQs0sh44U",
        "colab_type": "code",
        "outputId": "113fa38c-703b-4cf7-8051-e944809e4343",
        "colab": {
          "base_uri": "https://localhost:8080/",
          "height": 197
        }
      },
      "source": [
        "#Filter to ages\n",
        "df_producer_ages = df_producer[(df_producer['data item'].str.contains('AGE ')) & (df_producer['commodity'] == 'PRODUCERS') & (~df_producer['data item'].str.contains('LE'))]\n",
        "df_producer_ages = df_producer_ages.reset_index(drop = True)\n",
        "\n",
        "#Inspect\n",
        "df_producer_ages.head()"
      ],
      "execution_count": 78,
      "outputs": [
        {
          "output_type": "execute_result",
          "data": {
            "text/html": [
              "<div>\n",
              "<style scoped>\n",
              "    .dataframe tbody tr th:only-of-type {\n",
              "        vertical-align: middle;\n",
              "    }\n",
              "\n",
              "    .dataframe tbody tr th {\n",
              "        vertical-align: top;\n",
              "    }\n",
              "\n",
              "    .dataframe thead th {\n",
              "        text-align: right;\n",
              "    }\n",
              "</style>\n",
              "<table border=\"1\" class=\"dataframe\">\n",
              "  <thead>\n",
              "    <tr style=\"text-align: right;\">\n",
              "      <th></th>\n",
              "      <th>state</th>\n",
              "      <th>commodity</th>\n",
              "      <th>data item</th>\n",
              "      <th>2017</th>\n",
              "      <th>2012</th>\n",
              "      <th>2007</th>\n",
              "      <th>2002</th>\n",
              "      <th>1997</th>\n",
              "    </tr>\n",
              "  </thead>\n",
              "  <tbody>\n",
              "    <tr>\n",
              "      <th>0</th>\n",
              "      <td>US TOTAL</td>\n",
              "      <td>PRODUCERS</td>\n",
              "      <td>PRODUCERS, AGE LT 25 - NUMBER OF PRODUCERS</td>\n",
              "      <td>50943.0</td>\n",
              "      <td>-9999.0</td>\n",
              "      <td>-9999.0</td>\n",
              "      <td>-9999.0</td>\n",
              "      <td>-9999.0</td>\n",
              "    </tr>\n",
              "    <tr>\n",
              "      <th>1</th>\n",
              "      <td>US TOTAL</td>\n",
              "      <td>PRODUCERS</td>\n",
              "      <td>PRODUCERS, AGE 25 TO 34 - NUMBER OF PRODUCERS</td>\n",
              "      <td>234496.0</td>\n",
              "      <td>-9999.0</td>\n",
              "      <td>-9999.0</td>\n",
              "      <td>-9999.0</td>\n",
              "      <td>-9999.0</td>\n",
              "    </tr>\n",
              "    <tr>\n",
              "      <th>2</th>\n",
              "      <td>US TOTAL</td>\n",
              "      <td>PRODUCERS</td>\n",
              "      <td>PRODUCERS, AGE 35 TO 44 - NUMBER OF PRODUCERS</td>\n",
              "      <td>390345.0</td>\n",
              "      <td>-9999.0</td>\n",
              "      <td>-9999.0</td>\n",
              "      <td>-9999.0</td>\n",
              "      <td>-9999.0</td>\n",
              "    </tr>\n",
              "    <tr>\n",
              "      <th>3</th>\n",
              "      <td>US TOTAL</td>\n",
              "      <td>PRODUCERS</td>\n",
              "      <td>PRODUCERS, AGE 45 TO 54 - NUMBER OF PRODUCERS</td>\n",
              "      <td>614654.0</td>\n",
              "      <td>-9999.0</td>\n",
              "      <td>-9999.0</td>\n",
              "      <td>-9999.0</td>\n",
              "      <td>-9999.0</td>\n",
              "    </tr>\n",
              "    <tr>\n",
              "      <th>4</th>\n",
              "      <td>US TOTAL</td>\n",
              "      <td>PRODUCERS</td>\n",
              "      <td>PRODUCERS, AGE 55 TO 64 - NUMBER OF PRODUCERS</td>\n",
              "      <td>955354.0</td>\n",
              "      <td>-9999.0</td>\n",
              "      <td>-9999.0</td>\n",
              "      <td>-9999.0</td>\n",
              "      <td>-9999.0</td>\n",
              "    </tr>\n",
              "  </tbody>\n",
              "</table>\n",
              "</div>"
            ],
            "text/plain": [
              "      state  commodity  ...    2002    1997\n",
              "0  US TOTAL  PRODUCERS  ... -9999.0 -9999.0\n",
              "1  US TOTAL  PRODUCERS  ... -9999.0 -9999.0\n",
              "2  US TOTAL  PRODUCERS  ... -9999.0 -9999.0\n",
              "3  US TOTAL  PRODUCERS  ... -9999.0 -9999.0\n",
              "4  US TOTAL  PRODUCERS  ... -9999.0 -9999.0\n",
              "\n",
              "[5 rows x 8 columns]"
            ]
          },
          "metadata": {
            "tags": []
          },
          "execution_count": 78
        }
      ]
    },
    {
      "cell_type": "markdown",
      "metadata": {
        "id": "IRDW7_-XcuaZ",
        "colab_type": "text"
      },
      "source": [
        "**We can make a pie chart to depict the distribution of farmer age.**"
      ]
    },
    {
      "cell_type": "code",
      "metadata": {
        "id": "zLLzb88xnD9I",
        "colab_type": "code",
        "outputId": "a7687dcd-eeb2-42fd-bd1c-a2b8bd001568",
        "colab": {
          "base_uri": "https://localhost:8080/",
          "height": 341
        }
      },
      "source": [
        "#Pie chart for farmer age\n",
        "\n",
        "#Collect values and labels\n",
        "values = df_producer_ages['2017'].values\n",
        "labels = ['Under 25', '25 to 34', '35 to 44', '45 to 54', '55 to 64', '65 to 74', '75 and over']\n",
        "\n",
        "#Create figure\n",
        "fig, ax = plt.subplots(figsize = (5,5))\n",
        "\n",
        "#Spacing between pie slices\n",
        "explode = (0.05, 0.05, 0.05, 0.05, 0.05, 0.05, 0.05)\n",
        "\n",
        "#Plot pie chart\n",
        "ax.pie(x = values, labels = labels, autopct = '%1.1f%%', pctdistance = 0.83, explode = explode,\n",
        "        colors = ['lightcoral', 'orangered', 'goldenrod', 'bisque', 'mediumseagreen', 'lightblue', 'orchid'])\n",
        "\n",
        "#Draw white circle\n",
        "center_circle = plt.Circle((0,0),0.70,fc='white')\n",
        "fig = plt.gcf()\n",
        "fig.gca().add_artist(center_circle)\n",
        "\n",
        "#Add average age text\n",
        "ax.text(0,-0.15,'Avg. Age\\n57.5', fontsize = 16, weight = 'bold', ha = ('center'))\n",
        "\n",
        "#Title\n",
        "ax.set_title('Ages of All Farmers', fontsize = 16)"
      ],
      "execution_count": 79,
      "outputs": [
        {
          "output_type": "execute_result",
          "data": {
            "text/plain": [
              "Text(0.5, 1.0, 'Ages of All Farmers')"
            ]
          },
          "metadata": {
            "tags": []
          },
          "execution_count": 79
        },
        {
          "output_type": "display_data",
          "data": {
            "image/png": "[encoded data removed]",
            "text/plain": [
              "<Figure size 360x360 with 1 Axes>"
            ]
          },
          "metadata": {
            "tags": []
          }
        }
      ]
    },
    {
      "cell_type": "markdown",
      "metadata": {
        "id": "6cZFfTexdEqL",
        "colab_type": "text"
      },
      "source": [
        "**The average age of farmers nationwide in 2017 was 57.5. This means that the average age of organic farmers is lower than that of all farmers combined. The percentage of conventional farmers that are older than 55 is much higher than the percentage of organic farmers older than 55.**\n",
        "\n",
        "\n",
        "\n",
        "---\n",
        "\n",
        "\n",
        "**The next step is to look at days worked off farm. More days worked off farm suggests that farming is not the primary occupation of farmers.**"
      ]
    },
    {
      "cell_type": "code",
      "metadata": {
        "id": "u6jPLbJ8rQ9e",
        "colab_type": "code",
        "outputId": "93159242-1054-4484-d6c6-f11dcb68dfbd",
        "colab": {
          "base_uri": "https://localhost:8080/",
          "height": 227
        }
      },
      "source": [
        "#Filter to days off farm\n",
        "df_producer_days = df_producer[(df_producer['data item'].str.contains('DAYS WORKED')) & (df_producer['commodity'] == 'PRODUCERS')]\n",
        "df_producer_days = df_producer_days.reset_index(drop = True)\n",
        "\n",
        "#Inspect\n",
        "df_producer_days"
      ],
      "execution_count": 80,
      "outputs": [
        {
          "output_type": "execute_result",
          "data": {
            "text/html": [
              "<div>\n",
              "<style scoped>\n",
              "    .dataframe tbody tr th:only-of-type {\n",
              "        vertical-align: middle;\n",
              "    }\n",
              "\n",
              "    .dataframe tbody tr th {\n",
              "        vertical-align: top;\n",
              "    }\n",
              "\n",
              "    .dataframe thead th {\n",
              "        text-align: right;\n",
              "    }\n",
              "</style>\n",
              "<table border=\"1\" class=\"dataframe\">\n",
              "  <thead>\n",
              "    <tr style=\"text-align: right;\">\n",
              "      <th></th>\n",
              "      <th>state</th>\n",
              "      <th>commodity</th>\n",
              "      <th>data item</th>\n",
              "      <th>2017</th>\n",
              "      <th>2012</th>\n",
              "      <th>2007</th>\n",
              "      <th>2002</th>\n",
              "      <th>1997</th>\n",
              "    </tr>\n",
              "  </thead>\n",
              "  <tbody>\n",
              "    <tr>\n",
              "      <th>0</th>\n",
              "      <td>US TOTAL</td>\n",
              "      <td>PRODUCERS</td>\n",
              "      <td>PRODUCERS, DAYS WORKED OFF OPERATION, 0 DAYS - NUMBER OF PRODUCERS</td>\n",
              "      <td>1311334.0</td>\n",
              "      <td>-9999.0</td>\n",
              "      <td>-9999.0</td>\n",
              "      <td>-9999.0</td>\n",
              "      <td>-9999.0</td>\n",
              "    </tr>\n",
              "    <tr>\n",
              "      <th>1</th>\n",
              "      <td>US TOTAL</td>\n",
              "      <td>PRODUCERS</td>\n",
              "      <td>PRODUCERS, DAYS WORKED OFF OPERATION, GE 1 DAYS - NUMBER OF PRODUCERS</td>\n",
              "      <td>2088500.0</td>\n",
              "      <td>-9999.0</td>\n",
              "      <td>-9999.0</td>\n",
              "      <td>-9999.0</td>\n",
              "      <td>-9999.0</td>\n",
              "    </tr>\n",
              "    <tr>\n",
              "      <th>2</th>\n",
              "      <td>US TOTAL</td>\n",
              "      <td>PRODUCERS</td>\n",
              "      <td>PRODUCERS, DAYS WORKED OFF OPERATION, 1 TO 49 DAYS - NUMBER OF PRODUCERS</td>\n",
              "      <td>285477.0</td>\n",
              "      <td>-9999.0</td>\n",
              "      <td>-9999.0</td>\n",
              "      <td>-9999.0</td>\n",
              "      <td>-9999.0</td>\n",
              "    </tr>\n",
              "    <tr>\n",
              "      <th>3</th>\n",
              "      <td>US TOTAL</td>\n",
              "      <td>PRODUCERS</td>\n",
              "      <td>PRODUCERS, DAYS WORKED OFF OPERATION, 50 TO 99 DAYS - NUMBER OF PRODUCERS</td>\n",
              "      <td>151972.0</td>\n",
              "      <td>-9999.0</td>\n",
              "      <td>-9999.0</td>\n",
              "      <td>-9999.0</td>\n",
              "      <td>-9999.0</td>\n",
              "    </tr>\n",
              "    <tr>\n",
              "      <th>4</th>\n",
              "      <td>US TOTAL</td>\n",
              "      <td>PRODUCERS</td>\n",
              "      <td>PRODUCERS, DAYS WORKED OFF OPERATION, 100 TO 199 DAYS - NUMBER OF PRODUCERS</td>\n",
              "      <td>282056.0</td>\n",
              "      <td>-9999.0</td>\n",
              "      <td>-9999.0</td>\n",
              "      <td>-9999.0</td>\n",
              "      <td>-9999.0</td>\n",
              "    </tr>\n",
              "    <tr>\n",
              "      <th>5</th>\n",
              "      <td>US TOTAL</td>\n",
              "      <td>PRODUCERS</td>\n",
              "      <td>PRODUCERS, DAYS WORKED OFF OPERATION, GE 200 DAYS - NUMBER OF PRODUCERS</td>\n",
              "      <td>1368995.0</td>\n",
              "      <td>-9999.0</td>\n",
              "      <td>-9999.0</td>\n",
              "      <td>-9999.0</td>\n",
              "      <td>-9999.0</td>\n",
              "    </tr>\n",
              "  </tbody>\n",
              "</table>\n",
              "</div>"
            ],
            "text/plain": [
              "      state  commodity  ...    2002    1997\n",
              "0  US TOTAL  PRODUCERS  ... -9999.0 -9999.0\n",
              "1  US TOTAL  PRODUCERS  ... -9999.0 -9999.0\n",
              "2  US TOTAL  PRODUCERS  ... -9999.0 -9999.0\n",
              "3  US TOTAL  PRODUCERS  ... -9999.0 -9999.0\n",
              "4  US TOTAL  PRODUCERS  ... -9999.0 -9999.0\n",
              "5  US TOTAL  PRODUCERS  ... -9999.0 -9999.0\n",
              "\n",
              "[6 rows x 8 columns]"
            ]
          },
          "metadata": {
            "tags": []
          },
          "execution_count": 80
        }
      ]
    },
    {
      "cell_type": "markdown",
      "metadata": {
        "id": "R3jhnu-ae4cj",
        "colab_type": "text"
      },
      "source": [
        "**Make pie chart to visualize days worked off farm for all US farmers in 2017.**"
      ]
    },
    {
      "cell_type": "code",
      "metadata": {
        "id": "d5Cw-kc7qdcv",
        "colab_type": "code",
        "outputId": "b6ea084a-7018-466a-eaeb-2122e25a43de",
        "colab": {
          "base_uri": "https://localhost:8080/",
          "height": 341
        }
      },
      "source": [
        "#Pie chart for days worked off farm\n",
        "\n",
        "#Collect values and labels\n",
        "values = df_producer_days['2017'].values\n",
        "labels = ['0 days', '1 day', '1 to 49 days', '50 to 99 days', '100 to 199 days', 'Over 200 days']\n",
        "\n",
        "#Create figure\n",
        "fig, ax = plt.subplots(figsize = (5,5))\n",
        "\n",
        "#Spacing between pie slices\n",
        "explode = (0.05, 0.05, 0.05, 0.05, 0.05, 0.05)\n",
        "\n",
        "#Plot pie chart\n",
        "ax.pie(x = values, labels = labels, autopct = '%1.1f%%', pctdistance = 0.83, explode = explode,\n",
        "        colors = ['lightcoral', 'orangered', 'goldenrod', 'bisque', 'mediumseagreen', 'lightblue', 'orchid'])\n",
        "  \n",
        "#Draw white circle\n",
        "center_circle = plt.Circle((0,0),0.70,fc='white')\n",
        "fig = plt.gcf()\n",
        "fig.gca().add_artist(center_circle)\n",
        "\n",
        "#Set title\n",
        "ax.set_title('Farmers Days Worked Off Farm', fontsize = 16)"
      ],
      "execution_count": 81,
      "outputs": [
        {
          "output_type": "execute_result",
          "data": {
            "text/plain": [
              "Text(0.5, 1.0, 'Farmers Days Worked Off Farm')"
            ]
          },
          "metadata": {
            "tags": []
          },
          "execution_count": 81
        },
        {
          "output_type": "display_data",
          "data": {
            "image/png": "[encoded data removed]",
            "text/plain": [
              "<Figure size 360x360 with 1 Axes>"
            ]
          },
          "metadata": {
            "tags": []
          }
        }
      ]
    },
    {
      "cell_type": "markdown",
      "metadata": {
        "id": "ld5EOSnkfhuM",
        "colab_type": "text"
      },
      "source": [
        "**As with organic farmers, it is most common to work 1 day or less off farm and the next most common category is working 200 days off farm. Based on this graphic alone, we would not expect a little more than 50% of farmers to consider farming to be their primary occupation. We can confirm our estimate by looking at primary occupation data.**"
      ]
    },
    {
      "cell_type": "code",
      "metadata": {
        "id": "uEJBnV2Js_qt",
        "colab_type": "code",
        "outputId": "da382711-a5a1-4f19-cc9a-493005dce3f3",
        "colab": {
          "base_uri": "https://localhost:8080/",
          "height": 107
        }
      },
      "source": [
        "#Filter to occupation\n",
        "df_producer_oc = df_producer[(df_producer['data item'].str.contains('OCCUPATION')) & (df_producer['commodity'] == 'PRODUCERS')]\n",
        "\n",
        "#Inspect\n",
        "df_producer_oc.head()"
      ],
      "execution_count": 82,
      "outputs": [
        {
          "output_type": "execute_result",
          "data": {
            "text/html": [
              "<div>\n",
              "<style scoped>\n",
              "    .dataframe tbody tr th:only-of-type {\n",
              "        vertical-align: middle;\n",
              "    }\n",
              "\n",
              "    .dataframe tbody tr th {\n",
              "        vertical-align: top;\n",
              "    }\n",
              "\n",
              "    .dataframe thead th {\n",
              "        text-align: right;\n",
              "    }\n",
              "</style>\n",
              "<table border=\"1\" class=\"dataframe\">\n",
              "  <thead>\n",
              "    <tr style=\"text-align: right;\">\n",
              "      <th></th>\n",
              "      <th>state</th>\n",
              "      <th>commodity</th>\n",
              "      <th>data item</th>\n",
              "      <th>2017</th>\n",
              "      <th>2012</th>\n",
              "      <th>2007</th>\n",
              "      <th>2002</th>\n",
              "      <th>1997</th>\n",
              "    </tr>\n",
              "  </thead>\n",
              "  <tbody>\n",
              "    <tr>\n",
              "      <th>16</th>\n",
              "      <td>US TOTAL</td>\n",
              "      <td>PRODUCERS</td>\n",
              "      <td>PRODUCERS, PRIMARY OCCUPATION, FARMING - NUMBER OF PRODUCERS</td>\n",
              "      <td>1416848.0</td>\n",
              "      <td>-9999.0</td>\n",
              "      <td>-9999.0</td>\n",
              "      <td>-9999.0</td>\n",
              "      <td>-9999.0</td>\n",
              "    </tr>\n",
              "    <tr>\n",
              "      <th>20</th>\n",
              "      <td>US TOTAL</td>\n",
              "      <td>PRODUCERS</td>\n",
              "      <td>PRODUCERS, PRIMARY OCCUPATION, (EXCL FARMING) - NUMBER OF PRODUCERS</td>\n",
              "      <td>1982986.0</td>\n",
              "      <td>-9999.0</td>\n",
              "      <td>-9999.0</td>\n",
              "      <td>-9999.0</td>\n",
              "      <td>-9999.0</td>\n",
              "    </tr>\n",
              "  </tbody>\n",
              "</table>\n",
              "</div>"
            ],
            "text/plain": [
              "       state  commodity  ...    2002    1997\n",
              "16  US TOTAL  PRODUCERS  ... -9999.0 -9999.0\n",
              "20  US TOTAL  PRODUCERS  ... -9999.0 -9999.0\n",
              "\n",
              "[2 rows x 8 columns]"
            ]
          },
          "metadata": {
            "tags": []
          },
          "execution_count": 82
        }
      ]
    },
    {
      "cell_type": "markdown",
      "metadata": {
        "id": "SG-k9bjPgXht",
        "colab_type": "text"
      },
      "source": [
        "**Build pie chart for primary occupation data.**"
      ]
    },
    {
      "cell_type": "code",
      "metadata": {
        "id": "TIrpAb0QtW_T",
        "colab_type": "code",
        "outputId": "e5e0243d-6881-4c2d-cae7-2d00a03e30d6",
        "colab": {
          "base_uri": "https://localhost:8080/",
          "height": 341
        }
      },
      "source": [
        "#Pie chart for primary occupation data\n",
        "\n",
        "#Collect values and labels\n",
        "values = df_producer_oc['2017'].values\n",
        "labels = ['Primary Occupation', 'Not Primary Occupation']\n",
        "\n",
        "#Create figure\n",
        "fig, ax = plt.subplots(figsize = (5,5))\n",
        "\n",
        "#Spacing for pie slices\n",
        "explode = (0.05, 0.05)\n",
        "\n",
        "#Plot pie chart\n",
        "ax.pie(x = values, labels = labels, autopct = '%1.1f%%', pctdistance = 0.83, explode = explode,\n",
        "        colors = ['palegreen', 'salmon'], textprops = {'fontsize':12})\n",
        "\n",
        "#Draw white circle\n",
        "center_circle = plt.Circle((0,0),0.70,fc='white')\n",
        "fig = plt.gcf()\n",
        "fig.gca().add_artist(center_circle)\n",
        "\n",
        "#Add title\n",
        "ax.set_title('Farmers Primary Occupation', fontsize = 16)"
      ],
      "execution_count": 83,
      "outputs": [
        {
          "output_type": "execute_result",
          "data": {
            "text/plain": [
              "Text(0.5, 1.0, 'Farmers Primary Occupation')"
            ]
          },
          "metadata": {
            "tags": []
          },
          "execution_count": 83
        },
        {
          "output_type": "display_data",
          "data": {
            "image/png": "[encoded data removed]",
            "text/plain": [
              "<Figure size 360x360 with 1 Axes>"
            ]
          },
          "metadata": {
            "tags": []
          }
        }
      ]
    },
    {
      "cell_type": "markdown",
      "metadata": {
        "id": "o1-PqwOwguir",
        "colab_type": "text"
      },
      "source": [
        "**Almost 60% of farmers do not consider farming to be their primary occupation. This is quite suprising given that 62% of farmers spend one day or less working off farm. This graphic is in stark contrast to its organic farmers analog where the majority of farmers considered farming to be their primary occupation.**\n",
        "\n",
        "\n",
        "\n",
        "---\n",
        "\n",
        "**Now we will take a look at the sales data and the number of operations. We need to read in some new data to do this. See the introduction of this section for the sources.**"
      ]
    },
    {
      "cell_type": "code",
      "metadata": {
        "id": "8Ga_NwEC4W1s",
        "colab_type": "code",
        "outputId": "44cd8369-5103-4644-cd64-6d6161856acf",
        "colab": {
          "base_uri": "https://localhost:8080/",
          "height": 77
        }
      },
      "source": [
        "#Read in data\n",
        "df_hist = pd.read_csv('Historical Highlights Pull CDQT.csv')\n",
        "\n",
        "#Drop unwanted columns\n",
        "df_hist = df_hist.drop(['state fips', 'county', 'county code'], axis = 1)\n",
        "\n",
        "#df_hist = df_hist[df_hist['data item'] == 'COMMODITY TOTALS - SALES, MEASURED IN $']\n",
        "df_hist = df_hist[(df_hist['data item'] == 'FARM OPERATIONS - NUMBER OF OPERATIONS') & (df_hist['domain category'].isnull())]\n",
        "\n",
        "#Format values to numeric and drop commas\n",
        "years = ['2017', '2012', '2007', '2002', '1997']\n",
        "\n",
        "for y in years:\n",
        "  df_hist[y] = pd.to_numeric(df_hist[y].astype(str).str.replace(',',''))\n",
        "  \n",
        "#Inspect\n",
        "df_hist.head()"
      ],
      "execution_count": 84,
      "outputs": [
        {
          "output_type": "execute_result",
          "data": {
            "text/html": [
              "<div>\n",
              "<style scoped>\n",
              "    .dataframe tbody tr th:only-of-type {\n",
              "        vertical-align: middle;\n",
              "    }\n",
              "\n",
              "    .dataframe tbody tr th {\n",
              "        vertical-align: top;\n",
              "    }\n",
              "\n",
              "    .dataframe thead th {\n",
              "        text-align: right;\n",
              "    }\n",
              "</style>\n",
              "<table border=\"1\" class=\"dataframe\">\n",
              "  <thead>\n",
              "    <tr style=\"text-align: right;\">\n",
              "      <th></th>\n",
              "      <th>state</th>\n",
              "      <th>commodity</th>\n",
              "      <th>data item</th>\n",
              "      <th>domain category</th>\n",
              "      <th>2017</th>\n",
              "      <th>2012</th>\n",
              "      <th>2007</th>\n",
              "      <th>2002</th>\n",
              "      <th>1997</th>\n",
              "    </tr>\n",
              "  </thead>\n",
              "  <tbody>\n",
              "    <tr>\n",
              "      <th>0</th>\n",
              "      <td>US TOTAL</td>\n",
              "      <td>FARM OPERATIONS</td>\n",
              "      <td>FARM OPERATIONS - NUMBER OF OPERATIONS</td>\n",
              "      <td>NaN</td>\n",
              "      <td>2042220</td>\n",
              "      <td>2109303</td>\n",
              "      <td>2204792</td>\n",
              "      <td>2128982</td>\n",
              "      <td>2215876</td>\n",
              "    </tr>\n",
              "  </tbody>\n",
              "</table>\n",
              "</div>"
            ],
            "text/plain": [
              "      state        commodity  ...     2002     1997\n",
              "0  US TOTAL  FARM OPERATIONS  ...  2128982  2215876\n",
              "\n",
              "[1 rows x 9 columns]"
            ]
          },
          "metadata": {
            "tags": []
          },
          "execution_count": 84
        }
      ]
    },
    {
      "cell_type": "markdown",
      "metadata": {
        "id": "m_uvj0gqjYeU",
        "colab_type": "text"
      },
      "source": [
        "**Create bar graph for sales of all agricultural goods in US.**"
      ]
    },
    {
      "cell_type": "code",
      "metadata": {
        "id": "PjUDuqaa8Kvu",
        "colab_type": "code",
        "outputId": "ba6c4f4b-f7d0-4123-fe01-4c7698669dcc",
        "colab": {
          "base_uri": "https://localhost:8080/",
          "height": 374
        }
      },
      "source": [
        "#Sales bar graphs\n",
        "\n",
        "#Filter to sales data\n",
        "sales = df_hist.iloc[0][4:10].values[::-1]\n",
        "\n",
        "#Create figure\n",
        "fig, ax = plt.subplots(figsize = (5,5))\n",
        "\n",
        "#Plot barplot\n",
        "ax.bar(x = [0, 0.5, 1, 1.5, 2], height = sales, width = 0.35, color = 'slategray')\n",
        "\n",
        "#Handle ticks and tick labels\n",
        "ax.set_xticks([0, 0.5, 1, 1.5, 2])\n",
        "ax.set_xticklabels(['1997', '2002', '2007', '2012', '2017'])\n",
        "ax.set_yticklabels(['0', '0.5', '1.0', '1.5', '2.0', '2.5', '3.0', '3.5', '4.0'])\n",
        "\n",
        "#Format axis labels and titles\n",
        "ax.set_ylabel('Yearly Sales (Trillion USD)', fontsize = 13, labelpad = 15)\n",
        "ax.set_title('Yearly Agricultural Sales From Farms Reported to USDA Census', pad = 25, fontsize = 16)"
      ],
      "execution_count": 85,
      "outputs": [
        {
          "output_type": "execute_result",
          "data": {
            "text/plain": [
              "Text(0.5, 1.0, 'Yearly Agricultural Sales From Farms Reported to USDA Census')"
            ]
          },
          "metadata": {
            "tags": []
          },
          "execution_count": 85
        },
        {
          "output_type": "display_data",
          "data": {
            "image/png": "[encoded data removed]",
            "text/plain": [
              "<Figure size 360x360 with 1 Axes>"
            ]
          },
          "metadata": {
            "tags": []
          }
        }
      ]
    },
    {
      "cell_type": "markdown",
      "metadata": {
        "id": "rMKd8yCgj0v8",
        "colab_type": "text"
      },
      "source": [
        "**The sales of agricultural goods have been declining since 2007. This is in stark contrast to the sales of organic goods which more than doubled in a 5 year period. Based off sales data, there is a lot of promise in organic products in comparison to conventional ones.**\n",
        "\n",
        "\n",
        "\n",
        "---\n",
        "\n",
        "\n",
        "**The next step is to look at the number of operations.**"
      ]
    },
    {
      "cell_type": "code",
      "metadata": {
        "id": "SOHolXumZskj",
        "colab_type": "code",
        "outputId": "0a9fa692-36b2-445e-8b32-e52b01e14678",
        "colab": {
          "base_uri": "https://localhost:8080/",
          "height": 374
        }
      },
      "source": [
        "#Number of operations bar graph\n",
        "\n",
        "#Filter to number of operations\n",
        "operations = df_hist.iloc[0][4:10].values[::-1]\n",
        "\n",
        "#Create figure\n",
        "fig, ax = plt.subplots(figsize = (5,5))\n",
        "\n",
        "#Plot barplot\n",
        "ax.bar(x = [0, 0.5, 1, 1.5, 2], height = operations, width = 0.35, color = 'salmon')\n",
        "\n",
        "#Format ticks and tick labels\n",
        "ax.set_xticks([0, 0.5, 1, 1.5, 2])\n",
        "ax.set_xticklabels(['1997', '2002', '2007', '2012', '2017'])\n",
        "ax.set_yticks([0, 500000, 1000000, 1500000, 2000000])\n",
        "ax.set_yticklabels(['0', '500,000', '1,000,000', '1,500,000', '2,000,000'])\n",
        "\n",
        "#Format axis labels and title\n",
        "ax.set_ylabel('Number of Operations', fontsize = 12, labelpad = 15)\n",
        "ax.set_title('Number of Operations with Sales Reported to USDA Census', pad = 25, fontsize = 16)"
      ],
      "execution_count": 86,
      "outputs": [
        {
          "output_type": "execute_result",
          "data": {
            "text/plain": [
              "Text(0.5, 1.0, 'Number of Operations with Sales Reported to USDA Census')"
            ]
          },
          "metadata": {
            "tags": []
          },
          "execution_count": 86
        },
        {
          "output_type": "display_data",
          "data": {
            "image/png": "[encoded data removed]",
            "text/plain": [
              "<Figure size 360x360 with 1 Axes>"
            ]
          },
          "metadata": {
            "tags": []
          }
        }
      ]
    },
    {
      "cell_type": "markdown",
      "metadata": {
        "id": "gIfmqmO8kotV",
        "colab_type": "text"
      },
      "source": [
        "**The number of farming operations has been declining since 2007, but still remains around the 2 million mark. This means that organic operations accounts for less than 1% of all farming operations.**"
      ]
    },
    {
      "cell_type": "markdown",
      "metadata": {
        "id": "wmrx6WhnpHiH",
        "colab_type": "text"
      },
      "source": [
        "# Gains and Losses\n",
        "\n",
        "The goal of this section is to obtain a sense of the number of farming operation operating at a gain or loss in a given year. We are interested in seeing how this varies at different geographic scales (national, state, county). It is critical to understand where farms are succeeding in order to dive deeper into the root causes of this success.\n",
        "\n",
        "The data from this section is obtained from the USDA NASS Quick Stats API. Information regarding this can be found in the introduction. We will be looking at the number of operations operating at a gain and at a loss based on **ON FARM** income which includes sales, on farm expenses, government payments, and on farm related activities. This **DOES NOT** include income from other jobs which is an important distinction because more than 50% of farmers do not consider their primary occupation. "
      ]
    },
    {
      "cell_type": "markdown",
      "metadata": {
        "id": "habyutFrv2X-",
        "colab_type": "text"
      },
      "source": [
        "**Access data from NASS Quick Stats API. We will start at the coarsest resolution available: nationwide.**"
      ]
    },
    {
      "cell_type": "code",
      "metadata": {
        "id": "0yhA3xgupKFG",
        "colab_type": "code",
        "outputId": "7a8b3529-3a8b-43bd-cfd5-81517a4c88a5",
        "colab": {
          "base_uri": "https://localhost:8080/",
          "height": 70
        }
      },
      "source": [
        "#Prepare payload\n",
        "api_key = 'XXX' \n",
        "\n",
        "#Selection of years\n",
        "years = map(str,range(1981,2018))\n",
        "\n",
        "#Payload to extract \n",
        "payload = {'key':api_key,\n",
        "\t   'source_desc':'CENSUS',\n",
        "     'sector_desc': 'ECONOMICS',\n",
        "     'group_desc': 'INCOME',\n",
        "\t   'commodity_desc':'INCOME, NET CASH FARM',\n",
        "\t   'domain_desc' : 'TOTAL',\n",
        "\t   'agg_level_desc':'NATIONAL',\n",
        "\t   'year':years,\n",
        "\t   'format':'JSON',\n",
        "          }\n",
        "\n",
        "#Items of interest\n",
        "item = ['INCOME, NET CASH FARM, OF OPERATIONS - OPERATIONS WITH GAIN',\n",
        "       'INCOME, NET CASH FARM, OF OPERATIONS - OPERATIONS WITH LOSS',\n",
        "       'INCOME, NET CASH FARM, OF OPERATIONS - OPERATIONS WITH NET INCOME']\n",
        "\n",
        "#Empty df to store results\n",
        "df_all = pd.DataFrame()\n",
        "\n",
        "#Loop through each item to create new payloads\n",
        "for i in item:\n",
        "    payload['short_desc'] = i\n",
        "    r = requests.get('http://quickstats.nass.usda.gov/api/api_GET/?key='+api_key, params = payload)\n",
        "    df = pd.read_json(json.dumps(r.json()),orient='split')\n",
        "    df_all = pd.concat([df_all, df])\n",
        "    print(i)\n",
        "    \n",
        "#Format columns by removing commas and changing dtypes\n",
        "df_all['Value'] = df_all['Value'].str.replace(',','')\n",
        "df_all['Value'] = pd.to_numeric(df_all['Value'])\n",
        "df_all = df_all[['Value', 'short_desc', 'state_name', 'year']]\n",
        "df_ntl = df_all.reset_index(drop = True)"
      ],
      "execution_count": 87,
      "outputs": [
        {
          "output_type": "stream",
          "text": [
            "INCOME, NET CASH FARM, OF OPERATIONS - OPERATIONS WITH GAIN\n",
            "INCOME, NET CASH FARM, OF OPERATIONS - OPERATIONS WITH LOSS\n",
            "INCOME, NET CASH FARM, OF OPERATIONS - OPERATIONS WITH NET INCOME\n"
          ],
          "name": "stdout"
        }
      ]
    },
    {
      "cell_type": "markdown",
      "metadata": {
        "id": "TPk3ZkMDyMYe",
        "colab_type": "text"
      },
      "source": [
        "**We now have all the data we need to do this analysis at the national level. We need to get it into a useful format by finding the percent of operations operating at a loss nationwide in every available year.**"
      ]
    },
    {
      "cell_type": "code",
      "metadata": {
        "id": "1hXDbqQRqVRS",
        "colab_type": "code",
        "colab": {}
      },
      "source": [
        "#Need to find the percent of operations operating at a loss in each year\n",
        "\n",
        "#Create dictionary to store results\n",
        "perc_loss_ntl_dict = {}\n",
        "\n",
        "#Iterate through unique years\n",
        "for y in df_ntl['year'].unique():\n",
        "  \n",
        "  #Filter down to year\n",
        "  df = df_ntl[df_ntl['year'] == y]\n",
        "  \n",
        "  #Calculate percent of operations operating at a loss\n",
        "  gain = df[df['short_desc'] == 'INCOME, NET CASH FARM, OF OPERATIONS - OPERATIONS WITH GAIN']['Value'].values\n",
        "  loss = df[df['short_desc'] == 'INCOME, NET CASH FARM, OF OPERATIONS - OPERATIONS WITH LOSS']['Value'].values\n",
        "  total = df[df['short_desc'] == 'INCOME, NET CASH FARM, OF OPERATIONS - OPERATIONS WITH NET INCOME']['Value'].values\n",
        "  perc_loss = (loss/total)*100\n",
        "  \n",
        "  #Save result. Year is key. Percent is value.\n",
        "  perc_loss_ntl_dict[y] = perc_loss"
      ],
      "execution_count": 0,
      "outputs": []
    },
    {
      "cell_type": "markdown",
      "metadata": {
        "id": "80g4otikyurj",
        "colab_type": "text"
      },
      "source": [
        "**Go from dictionary to dataframe with the help of pandas.**"
      ]
    },
    {
      "cell_type": "code",
      "metadata": {
        "id": "F0pBShfVweAZ",
        "colab_type": "code",
        "outputId": "26770a7a-0e25-4ffc-f261-2153595942c8",
        "colab": {
          "base_uri": "https://localhost:8080/",
          "height": 167
        }
      },
      "source": [
        "#Dictionary to dataframe\n",
        "perc_loss_ntl = pd.DataFrame.from_dict(perc_loss_ntl_dict)\n",
        "\n",
        "#Formatting\n",
        "perc_loss_ntl = perc_loss_ntl.transpose().reset_index()\n",
        "perc_loss_ntl = perc_loss_ntl.rename(columns = {'index':'Year',\n",
        "                               0:'Percent Operating at Loss'})\n",
        "\n",
        "#Inspect\n",
        "perc_loss_ntl.head()"
      ],
      "execution_count": 89,
      "outputs": [
        {
          "output_type": "execute_result",
          "data": {
            "text/html": [
              "<div>\n",
              "<style scoped>\n",
              "    .dataframe tbody tr th:only-of-type {\n",
              "        vertical-align: middle;\n",
              "    }\n",
              "\n",
              "    .dataframe tbody tr th {\n",
              "        vertical-align: top;\n",
              "    }\n",
              "\n",
              "    .dataframe thead th {\n",
              "        text-align: right;\n",
              "    }\n",
              "</style>\n",
              "<table border=\"1\" class=\"dataframe\">\n",
              "  <thead>\n",
              "    <tr style=\"text-align: right;\">\n",
              "      <th></th>\n",
              "      <th>Year</th>\n",
              "      <th>Percent Operating at Loss</th>\n",
              "    </tr>\n",
              "  </thead>\n",
              "  <tbody>\n",
              "    <tr>\n",
              "      <th>0</th>\n",
              "      <td>2017</td>\n",
              "      <td>56.354898</td>\n",
              "    </tr>\n",
              "    <tr>\n",
              "      <th>1</th>\n",
              "      <td>2012</td>\n",
              "      <td>53.897330</td>\n",
              "    </tr>\n",
              "    <tr>\n",
              "      <th>2</th>\n",
              "      <td>2007</td>\n",
              "      <td>52.964225</td>\n",
              "    </tr>\n",
              "    <tr>\n",
              "      <th>3</th>\n",
              "      <td>2002</td>\n",
              "      <td>53.312241</td>\n",
              "    </tr>\n",
              "  </tbody>\n",
              "</table>\n",
              "</div>"
            ],
            "text/plain": [
              "   Year  Percent Operating at Loss\n",
              "0  2017                  56.354898\n",
              "1  2012                  53.897330\n",
              "2  2007                  52.964225\n",
              "3  2002                  53.312241"
            ]
          },
          "metadata": {
            "tags": []
          },
          "execution_count": 89
        }
      ]
    },
    {
      "cell_type": "markdown",
      "metadata": {
        "id": "3gnxQ7Uoy6ml",
        "colab_type": "text"
      },
      "source": [
        "**We can visualize the data using a barplot.**"
      ]
    },
    {
      "cell_type": "code",
      "metadata": {
        "id": "nbZ6xN2Y9MCe",
        "colab_type": "code",
        "outputId": "c5a99022-00b0-463d-83ff-74000f3975f9",
        "colab": {
          "base_uri": "https://localhost:8080/",
          "height": 617
        }
      },
      "source": [
        "#Create barplot for number of operations operating at a loss nationwide\n",
        "\n",
        "#Create figure\n",
        "fig, ax = plt.subplots(figsize = (9,9))\n",
        "\n",
        "#Plot barplot\n",
        "ax = sns.barplot(x = 'Year', y = 'Percent Operating at Loss', data = perc_loss_ntl, palette = 'Blues_d')\n",
        "\n",
        "#Set title\n",
        "ax.set_title('Percent of Operations Operating at a Loss\\n(Nationwide)', fontsize = 23)\n",
        "\n",
        "#Format axis labels\n",
        "ax.set_ylabel('Percent of Operations Operating at a Loss', fontsize = 18, labelpad = 15)\n",
        "ax.set_xlabel('Year', fontsize = 18)\n",
        "\n",
        "#Format ticks and tick labels\n",
        "ax.set_yticks(np.arange(0,70,10))\n",
        "ax.yaxis.set_major_formatter(PercentFormatter()) #Useful for percent format labels\n",
        "plt.yticks(fontsize = 18)\n",
        "plt.xticks(fontsize = 18)\n",
        "\n",
        "\n",
        "plt.savefig('National Gains and Losses')"
      ],
      "execution_count": 90,
      "outputs": [
        {
          "output_type": "display_data",
          "data": {
            "image/png": "[encoded data removed]",
            "text/plain": [
              "<Figure size 648x648 with 1 Axes>"
            ]
          },
          "metadata": {
            "tags": []
          }
        }
      ]
    },
    {
      "cell_type": "markdown",
      "metadata": {
        "id": "asSMxyu71NZs",
        "colab_type": "text"
      },
      "source": [
        "**The majority of farming operations have been operating at a loss since 2002. Again, thsi data is only based off of on farm income. In 2017, about 56% of operations operated at a loss. This is a sobering visualization of the state of farming. A natural question to ask is if this trend/signal can be detected a finer geographic detail. We can go one step further and go to the state level. **"
      ]
    },
    {
      "cell_type": "code",
      "metadata": {
        "id": "BPwwLlcNvTCi",
        "colab_type": "code",
        "outputId": "2db6b7e7-a313-4a70-eb15-5a6bd68b2b2b",
        "colab": {
          "base_uri": "https://localhost:8080/",
          "height": 251
        }
      },
      "source": [
        "#Prepare payload for state level analysis\n",
        "api_key = 'XXX' \n",
        "\n",
        "#Years of interest\n",
        "years = map(str,range(1981,2018))\n",
        "\n",
        "#Payload to extract \n",
        "payload = {'key':api_key,\n",
        "\t   'source_desc':'CENSUS',\n",
        "     'sector_desc': 'ECONOMICS',\n",
        "     'group_desc': 'INCOME',\n",
        "\t   'commodity_desc':'INCOME, NET CASH FARM',\n",
        "\t   'domain_desc' : 'TOTAL',\n",
        "\t   'agg_level_desc':'STATE',\n",
        "\t   'year':years,\n",
        "\t   'format':'JSON',\n",
        "          }\n",
        "\n",
        "#Items of interest\n",
        "item = ['INCOME, NET CASH FARM, OF OPERATIONS - OPERATIONS WITH GAIN',\n",
        "       'INCOME, NET CASH FARM, OF OPERATIONS - OPERATIONS WITH LOSS',\n",
        "       'INCOME, NET CASH FARM, OF OPERATIONS - OPERATIONS WITH NET INCOME']\n",
        "\n",
        "#Empty df to store results\n",
        "df_all = pd.DataFrame()\n",
        "\n",
        "#Loop through items and request payloads (takes a few seconds)\n",
        "for i in item:\n",
        "    payload['short_desc'] = i\n",
        "    r = requests.get('http://quickstats.nass.usda.gov/api/api_GET/?key='+api_key, params = payload)\n",
        "    df = pd.read_json(json.dumps(r.json()),orient='split')\n",
        "    \n",
        "    df_all = pd.concat([df_all, df])\n",
        "    print(i)\n",
        "    \n",
        "#Formatting\n",
        "df_all['Value'] = df_all['Value'].str.replace(',','')\n",
        "df_all['Value'] = pd.to_numeric(df_all['Value'])\n",
        "df_all = df_all[['Value', 'short_desc', 'state_name', 'year']]\n",
        "df_state = df_all.reset_index()\n",
        "\n",
        "#Inspect\n",
        "df_state.head()"
      ],
      "execution_count": 91,
      "outputs": [
        {
          "output_type": "stream",
          "text": [
            "INCOME, NET CASH FARM, OF OPERATIONS - OPERATIONS WITH GAIN\n",
            "INCOME, NET CASH FARM, OF OPERATIONS - OPERATIONS WITH LOSS\n",
            "INCOME, NET CASH FARM, OF OPERATIONS - OPERATIONS WITH NET INCOME\n"
          ],
          "name": "stdout"
        },
        {
          "output_type": "execute_result",
          "data": {
            "text/html": [
              "<div>\n",
              "<style scoped>\n",
              "    .dataframe tbody tr th:only-of-type {\n",
              "        vertical-align: middle;\n",
              "    }\n",
              "\n",
              "    .dataframe tbody tr th {\n",
              "        vertical-align: top;\n",
              "    }\n",
              "\n",
              "    .dataframe thead th {\n",
              "        text-align: right;\n",
              "    }\n",
              "</style>\n",
              "<table border=\"1\" class=\"dataframe\">\n",
              "  <thead>\n",
              "    <tr style=\"text-align: right;\">\n",
              "      <th></th>\n",
              "      <th>index</th>\n",
              "      <th>Value</th>\n",
              "      <th>short_desc</th>\n",
              "      <th>state_name</th>\n",
              "      <th>year</th>\n",
              "    </tr>\n",
              "  </thead>\n",
              "  <tbody>\n",
              "    <tr>\n",
              "      <th>0</th>\n",
              "      <td>0</td>\n",
              "      <td>16128</td>\n",
              "      <td>INCOME, NET CASH FARM, OF OPERATIONS - OPERATIONS WITH GAIN</td>\n",
              "      <td>ALABAMA</td>\n",
              "      <td>2017</td>\n",
              "    </tr>\n",
              "    <tr>\n",
              "      <th>1</th>\n",
              "      <td>1</td>\n",
              "      <td>17488</td>\n",
              "      <td>INCOME, NET CASH FARM, OF OPERATIONS - OPERATIONS WITH GAIN</td>\n",
              "      <td>ALABAMA</td>\n",
              "      <td>2012</td>\n",
              "    </tr>\n",
              "    <tr>\n",
              "      <th>2</th>\n",
              "      <td>2</td>\n",
              "      <td>21176</td>\n",
              "      <td>INCOME, NET CASH FARM, OF OPERATIONS - OPERATIONS WITH GAIN</td>\n",
              "      <td>ALABAMA</td>\n",
              "      <td>2007</td>\n",
              "    </tr>\n",
              "    <tr>\n",
              "      <th>3</th>\n",
              "      <td>3</td>\n",
              "      <td>20607</td>\n",
              "      <td>INCOME, NET CASH FARM, OF OPERATIONS - OPERATIONS WITH GAIN</td>\n",
              "      <td>ALABAMA</td>\n",
              "      <td>2002</td>\n",
              "    </tr>\n",
              "    <tr>\n",
              "      <th>4</th>\n",
              "      <td>4</td>\n",
              "      <td>492</td>\n",
              "      <td>INCOME, NET CASH FARM, OF OPERATIONS - OPERATIONS WITH GAIN</td>\n",
              "      <td>ALASKA</td>\n",
              "      <td>2017</td>\n",
              "    </tr>\n",
              "  </tbody>\n",
              "</table>\n",
              "</div>"
            ],
            "text/plain": [
              "   index  Value  ... state_name  year\n",
              "0      0  16128  ...    ALABAMA  2017\n",
              "1      1  17488  ...    ALABAMA  2012\n",
              "2      2  21176  ...    ALABAMA  2007\n",
              "3      3  20607  ...    ALABAMA  2002\n",
              "4      4    492  ...     ALASKA  2017\n",
              "\n",
              "[5 rows x 5 columns]"
            ]
          },
          "metadata": {
            "tags": []
          },
          "execution_count": 91
        }
      ]
    },
    {
      "cell_type": "markdown",
      "metadata": {
        "id": "nBZAweK02cFA",
        "colab_type": "text"
      },
      "source": [
        "**We need a better format to store this data. A multiindexed dataframe would be ideal with states and years as the indices. We can obtain this format by creating a dictionary where they keys are states and years and the values are the percent of operations operating at a loss.**"
      ]
    },
    {
      "cell_type": "code",
      "metadata": {
        "id": "Q7XusZZcn3qc",
        "colab_type": "code",
        "outputId": "5829e58b-b8a7-44c6-bb6c-a4c2a1e7207d",
        "colab": {
          "base_uri": "https://localhost:8080/",
          "height": 227
        }
      },
      "source": [
        "#Create dictionary that holds the percentage of operations operating at a loss for each state for all available years\n",
        "perc_loss_state_dict = {}\n",
        "\n",
        "#Cylce through states\n",
        "for state in df_state['state_name'].unique():\n",
        "  \n",
        "  #Cycle through all years in state\n",
        "  for y in df_state['year'].unique():\n",
        "    #Filter to state and year\n",
        "    df = df_state[(df_state['year'] == y) & (df_state['state_name'] == state)]\n",
        "    \n",
        "    #Calculate percent of operations operating at a loss\n",
        "    gain = df[df['short_desc'] == 'INCOME, NET CASH FARM, OF OPERATIONS - OPERATIONS WITH GAIN']['Value'].values[0]\n",
        "    loss = df[df['short_desc'] == 'INCOME, NET CASH FARM, OF OPERATIONS - OPERATIONS WITH LOSS']['Value'].values[0]\n",
        "    total = df[df['short_desc'] == 'INCOME, NET CASH FARM, OF OPERATIONS - OPERATIONS WITH NET INCOME']['Value'].values[0]\n",
        "    perc_loss = (loss/total)*100\n",
        "    \n",
        "    #Save results in a dictionary. Keys are states and years.\n",
        "    perc_loss_state_dict[(state, y)] = [perc_loss, gain, loss, total]\n",
        "\n",
        "#Build out multiindex df from dataframe\n",
        "perc_loss_state = pd.DataFrame.from_dict(perc_loss_state_dict, orient=\"index\", columns = ['Percent of Operations With Loss', 'Number with Gain', 'Number with Loss', 'Total Operations'])\n",
        "perc_loss_state.index = pd.MultiIndex.from_tuples(perc_loss_state.index, names = ['State', 'Year'])\n",
        "\n",
        "#Inspect\n",
        "perc_loss_state.head()"
      ],
      "execution_count": 92,
      "outputs": [
        {
          "output_type": "execute_result",
          "data": {
            "text/html": [
              "<div>\n",
              "<style scoped>\n",
              "    .dataframe tbody tr th:only-of-type {\n",
              "        vertical-align: middle;\n",
              "    }\n",
              "\n",
              "    .dataframe tbody tr th {\n",
              "        vertical-align: top;\n",
              "    }\n",
              "\n",
              "    .dataframe thead th {\n",
              "        text-align: right;\n",
              "    }\n",
              "</style>\n",
              "<table border=\"1\" class=\"dataframe\">\n",
              "  <thead>\n",
              "    <tr style=\"text-align: right;\">\n",
              "      <th></th>\n",
              "      <th></th>\n",
              "      <th>Percent of Operations With Loss</th>\n",
              "      <th>Number with Gain</th>\n",
              "      <th>Number with Loss</th>\n",
              "      <th>Total Operations</th>\n",
              "    </tr>\n",
              "    <tr>\n",
              "      <th>State</th>\n",
              "      <th>Year</th>\n",
              "      <th></th>\n",
              "      <th></th>\n",
              "      <th></th>\n",
              "      <th></th>\n",
              "    </tr>\n",
              "  </thead>\n",
              "  <tbody>\n",
              "    <tr>\n",
              "      <th rowspan=\"4\" valign=\"top\">ALABAMA</th>\n",
              "      <th>2017</th>\n",
              "      <td>60.268033</td>\n",
              "      <td>16128</td>\n",
              "      <td>24464</td>\n",
              "      <td>40592</td>\n",
              "    </tr>\n",
              "    <tr>\n",
              "      <th>2012</th>\n",
              "      <td>59.540060</td>\n",
              "      <td>17488</td>\n",
              "      <td>25735</td>\n",
              "      <td>43223</td>\n",
              "    </tr>\n",
              "    <tr>\n",
              "      <th>2007</th>\n",
              "      <td>56.564724</td>\n",
              "      <td>21176</td>\n",
              "      <td>27577</td>\n",
              "      <td>48753</td>\n",
              "    </tr>\n",
              "    <tr>\n",
              "      <th>2002</th>\n",
              "      <td>54.332506</td>\n",
              "      <td>20607</td>\n",
              "      <td>24517</td>\n",
              "      <td>45124</td>\n",
              "    </tr>\n",
              "    <tr>\n",
              "      <th>ALASKA</th>\n",
              "      <th>2017</th>\n",
              "      <td>50.303030</td>\n",
              "      <td>492</td>\n",
              "      <td>498</td>\n",
              "      <td>990</td>\n",
              "    </tr>\n",
              "  </tbody>\n",
              "</table>\n",
              "</div>"
            ],
            "text/plain": [
              "              Percent of Operations With Loss  ...  Total Operations\n",
              "State   Year                                   ...                  \n",
              "ALABAMA 2017                        60.268033  ...             40592\n",
              "        2012                        59.540060  ...             43223\n",
              "        2007                        56.564724  ...             48753\n",
              "        2002                        54.332506  ...             45124\n",
              "ALASKA  2017                        50.303030  ...               990\n",
              "\n",
              "[5 rows x 4 columns]"
            ]
          },
          "metadata": {
            "tags": []
          },
          "execution_count": 92
        }
      ]
    },
    {
      "cell_type": "markdown",
      "metadata": {
        "id": "qNzloepH3_oY",
        "colab_type": "text"
      },
      "source": [
        "**Now that we have the data in good format there are many different ways we can visualize it. We can start with an approach to visualize the distribution of the percent of operations operating at a gain in each state. Visualization is a combined histogram and boxplot with critical shading.**"
      ]
    },
    {
      "cell_type": "code",
      "metadata": {
        "id": "VKlgTTm7trG4",
        "colab_type": "code",
        "colab": {}
      },
      "source": [
        "#Deconstruct multiindex for natural filtering\n",
        "perc_loss_state_df = perc_loss_state.reset_index()\n",
        "\n",
        "#Function to construct plots\n",
        "def plot(year):\n",
        "  \n",
        "  #Extract values of interest\n",
        "  values = perc_loss_state_df[perc_loss_state_df['Year'] == year]['Percent of Operations With Loss']\n",
        "  \n",
        "  #Create figure. Share x-axis.\n",
        "  f, (ax_box, ax_hist) = plt.subplots(2, sharex = True, gridspec_kw={'height_ratios': (0.15, 0.85)}, figsize = (8,5))\n",
        "  \n",
        "  #Create box and whisker and histogram\n",
        "  sns.boxplot(values, ax = ax_box, color = 'grey')\n",
        "  sns.distplot(values, kde = False,  ax = ax_hist, color = 'black', bins = np.arange(20,85,5))\n",
        "\n",
        "  #Format axis and tick labels of histogram\n",
        "  ax_hist.set_xlabel('Percent of Operations Operating at a Loss', fontsize = 12)\n",
        "  ax_hist.set_ylabel('Number of States', fontsize = 12)\n",
        "  ax_hist.set_yticks(np.arange(0,25,5))\n",
        "  ax_hist.set_xticks(np.arange(20,85,5))\n",
        "  \n",
        "  #Add shading\n",
        "  ax_hist.axvspan(20,50, alpha = 0.2, color = 'green', label = 'More Operations At Gain Than Loss')\n",
        "  ax_hist.axvspan(50,85, alpha = 0.2, color = 'red', label = 'More Operations at Loss Than Gain')\n",
        "\n",
        "  #Remove margins for complete color coverage\n",
        "  ax_hist.margins(x = 0)\n",
        "  \n",
        "  #Format title, xticks and x axis label for box and whisker\n",
        "  ax_box.set_title('Percent of Operations Operating at a Loss in ' + str(year) +'\\n(State Level)')\n",
        "  ax_box.set_xticks(np.arange(20,85,5))\n",
        "  ax_box.set_xlabel('')\n",
        "  \n",
        "  #Legend\n",
        "  plt.legend(bbox_to_anchor = (1,0.6))"
      ],
      "execution_count": 0,
      "outputs": []
    },
    {
      "cell_type": "code",
      "metadata": {
        "id": "5lFLlHnpz7ki",
        "colab_type": "code",
        "outputId": "9c41a7bc-3c62-4cc8-ca20-10ccd5b8d7a5",
        "colab": {
          "base_uri": "https://localhost:8080/",
          "height": 1000
        }
      },
      "source": [
        "#Years of interest\n",
        "years = [2002, 2007, 2012, 2017]\n",
        "\n",
        "#Plot\n",
        "for y in years:\n",
        "  plot(y)"
      ],
      "execution_count": 94,
      "outputs": [
        {
          "output_type": "display_data",
          "data": {
            "image/png": "[encoded data removed]",
            "text/plain": [
              "<Figure size 576x360 with 2 Axes>"
            ]
          },
          "metadata": {
            "tags": []
          }
        },
        {
          "output_type": "display_data",
          "data": {
            "image/png": "[encoded data removed]",
            "text/plain": [
              "<Figure size 576x360 with 2 Axes>"
            ]
          },
          "metadata": {
            "tags": []
          }
        },
        {
          "output_type": "display_data",
          "data": {
            "image/png": "[encoded data removed]",
            "text/plain": [
              "<Figure size 576x360 with 2 Axes>"
            ]
          },
          "metadata": {
            "tags": []
          }
        },
        {
          "output_type": "display_data",
          "data": {
            "image/png": "[encoded data removed]",
            "text/plain": [
              "<Figure size 576x360 with 2 Axes>"
            ]
          },
          "metadata": {
            "tags": []
          }
        }
      ]
    },
    {
      "cell_type": "markdown",
      "metadata": {
        "id": "4IlcWfkx5kb3",
        "colab_type": "text"
      },
      "source": [
        "**This figure lets us easlily see the distribution of the percent of operations operating at a loss in each state. Bars in the red shading indicate that there are more operations operating at a loss than at a gain. More than 50% of the data falls in this red zone for every available year. Based on thsi graphic we can say that the national level analysis is not sufficient. The national level analysis is hiding the fact that there are some states doing very poorly.**\n",
        "\n",
        "**One obvious downside to this visualization is that you cannot discern the unique states. It is critical to know which states are succeeding so we can learn from their success.**\n"
      ]
    },
    {
      "cell_type": "code",
      "metadata": {
        "id": "Mmsl76av_ACv",
        "colab_type": "code",
        "colab": {}
      },
      "source": [
        "#We can switch our perspective to finding the percent of operations operating at a gain\n",
        "\n",
        "#Convert to % with gain and rename accordingly\n",
        "perc_gain_state_df = copy.deepcopy(perc_loss_state_df[['State', 'Year', 'Percent of Operations With Loss', 'Total Operations']])\n",
        "perc_gain_state_df['Percent of Operations with Gain'] = 100 - perc_loss_state_df['Percent of Operations With Loss']\n",
        "\n",
        "#Convert state name to state abreviation\n",
        "state_names = {'ALABAMA':'AL',\n",
        "               'ALASKA': 'AK',\n",
        "               'ARIZONA': 'AZ',\n",
        "               'ARKANSAS': 'AR',\n",
        "               'CALIFORNIA':'CA',\n",
        "               'COLORADO':'CO',\n",
        "               'CONNECTICUT':'CT',\n",
        "                'DELAWARE':'DE',\n",
        "               'FLORIDA':'FL',\n",
        "               'GEORGIA':'GA',\n",
        "               'HAWAII':'HI',\n",
        "               'IDAHO': 'ID',\n",
        "               'ILLINOIS':'IL',\n",
        "               'INDIANA':'IN',\n",
        "               'IOWA':'IA',\n",
        "               'KANSAS':'KS',\n",
        "               'KENTUCKY':'KY',\n",
        "               'LOUISIANA':'LA',\n",
        "               'MAINE':'ME',\n",
        "               'MARYLAND':'MD',\n",
        "               'MASSACHUSETTS':'MA',\n",
        "               'MICHIGAN':'MI',\n",
        "               'MINNESOTA':'MN',\n",
        "               'MISSISSIPPI':'MS',\n",
        "               'MISSOURI':'MO',\n",
        "               'MONTANA':'MT',\n",
        "               'NEBRASKA':'NE',\n",
        "               'NEVADA':'NV',\n",
        "               'NEW HAMPSHIRE':'NH',\n",
        "               'NEW JERSEY':'NJ',\n",
        "               'NEW MEXICO':'NM',\n",
        "               'NEW YORK':'NY',\n",
        "               'NORTH CAROLINA':'NC',\n",
        "               'NORTH DAKOTA':'ND',\n",
        "               'OHIO':'OH',\n",
        "               'OKLAHOMA':'OK',\n",
        "               'OREGON':'OR',\n",
        "               'PENNSYLVANIA':'PA',\n",
        "               'RHODE ISLAND':'RI',\n",
        "               'SOUTH CAROLINA':'SC',\n",
        "               'SOUTH DAKOTA':'SD',\n",
        "               'TENNESSEE':'TN',\n",
        "               'TEXAS':'TX',\n",
        "               'UTAH':'UT',\n",
        "               'VERMONT':'VT',\n",
        "               'VIRGINA':'VA',\n",
        "               'WASHINGTON':'WA',\n",
        "               'WEST VIRGINIA':'WV',\n",
        "               'WISCONSIN':'WI',\n",
        "               'WY':'WYOMING'}\n",
        "\n",
        "#Move from state names to state abbreviations using map function\n",
        "perc_gain_state_df['State Abbreviation'] = perc_gain_state_df['State'].map(state_names)"
      ],
      "execution_count": 0,
      "outputs": []
    },
    {
      "cell_type": "markdown",
      "metadata": {
        "id": "P83G2jLP8zLd",
        "colab_type": "text"
      },
      "source": [
        "**Create function to show the percent of operations operating at a gain in each state.**"
      ]
    },
    {
      "cell_type": "code",
      "metadata": {
        "id": "vBDY-COA8QxI",
        "colab_type": "code",
        "colab": {}
      },
      "source": [
        "#Plot to show each state and the percent of operations operating at a gain\n",
        "def state_level_gains(year):\n",
        "  \n",
        "  #Filter to year and sort values\n",
        "  perc_gain_state_2017 = perc_gain_state_df[perc_gain_state_df['Year'] == year]\n",
        "  perc_gain_state_2017 = perc_gain_state_2017.sort_values(by = 'Percent of Operations with Gain')\n",
        "  \n",
        "  #Create figure\n",
        "  fig, ax = plt.subplots(figsize = (22,7))\n",
        "  \n",
        "  #Plot barplot and horizontal line for interpretability\n",
        "  ax = sns.barplot(x = 'State Abbreviation', y = 'Percent of Operations with Gain', data = perc_gain_state_2017, color = 'lightblue')\n",
        "  ax.axhline(y=50, color = 'grey', linestyle = '--', linewidth = 4)\n",
        "\n",
        "  #Handle ticks and tick labels\n",
        "  ax.set_yticks(np.arange(0,90,10))\n",
        "  ax.yaxis.set_major_formatter(PercentFormatter())\n",
        "  plt.yticks(fontsize = 16)\n",
        "  plt.xticks(fontsize = 14)\n",
        "\n",
        "  #Handle axis labels\n",
        "  ax.set_ylabel('Percent of Operations with Gain', fontsize = 18, labelpad = 20)\n",
        "  ax.set_xlabel(' ', fontsize = 12, labelpad = 15)\n",
        "  ax.set_title('Percent of Farming Operations with Gains in ' + str(year) + '\\n(State Level)', fontsize = 23)"
      ],
      "execution_count": 0,
      "outputs": []
    },
    {
      "cell_type": "code",
      "metadata": {
        "id": "pBwIKh_D8juq",
        "colab_type": "code",
        "colab": {
          "base_uri": "https://localhost:8080/",
          "height": 1000
        },
        "outputId": "f65e603e-b550-40dc-d999-072f9a60a0c9"
      },
      "source": [
        "#Years of interest\n",
        "years = [2002, 2007, 2012, 2017]\n",
        "\n",
        "#Plot\n",
        "for y in years:\n",
        "  state_level_gains(y)"
      ],
      "execution_count": 97,
      "outputs": [
        {
          "output_type": "display_data",
          "data": {
            "image/png": "[encoded data removed]",
            "text/plain": [
              "<Figure size 1584x504 with 1 Axes>"
            ]
          },
          "metadata": {
            "tags": []
          }
        },
        {
          "output_type": "display_data",
          "data": {
            "image/png": "[encoded data removed]",
            "text/plain": [
              "<Figure size 1584x504 with 1 Axes>"
            ]
          },
          "metadata": {
            "tags": []
          }
        },
        {
          "output_type": "display_data",
          "data": {
            "image/png": "[encoded data removed]",
            "text/plain": [
              "<Figure size 1584x504 with 1 Axes>"
            ]
          },
          "metadata": {
            "tags": []
          }
        },
        {
          "output_type": "display_data",
          "data": {
            "image/png": "[encoded data removed]",
            "text/plain": [
              "<Figure size 1584x504 with 1 Axes>"
            ]
          },
          "metadata": {
            "tags": []
          }
        }
      ]
    },
    {
      "cell_type": "markdown",
      "metadata": {
        "id": "KIvtcUrEYebL",
        "colab_type": "text"
      },
      "source": [
        "**The big takeaway from these graphics is that there are a few select states performing quite well. North Dakota and Iowa consistently have greater than 60% of their farming operations operating at a gain. We should use these states as case studies as to what it takes to have a successful farm. Of course, there are many confounding variables that make it difficult to determine precise predictions of farm success and failure.**\n",
        "\n",
        "**It is also important that there is not much shifting in the order of states. This suggests that the problem is systemic and due to temporary variables like extreme weather events.**"
      ]
    },
    {
      "cell_type": "markdown",
      "metadata": {
        "id": "vwSREPBVZmPI",
        "colab_type": "text"
      },
      "source": [
        "**There is one more layer of geography that we can take advantage of: counties. The next step is to find the percentage of oeprations within each county operating at a loss every year. We can use this data to contruct a map that will show us \"hot spots\" of farm success.**"
      ]
    },
    {
      "cell_type": "code",
      "metadata": {
        "id": "1fTH-C6-ym9i",
        "colab_type": "code",
        "outputId": "5f21f05a-3e72-412c-9498-afe50d0a8803",
        "colab": {
          "base_uri": "https://localhost:8080/",
          "height": 52
        }
      },
      "source": [
        "#Prepare the payload\n",
        "api_key = '70D413B2-0123-3524-9634-F730BE441009' \n",
        "\n",
        "#Years of interest\n",
        "years = map(str,range(1981,2018))\n",
        "\n",
        "#Payload to extract \n",
        "payload = {'key':api_key,\n",
        "\t   'source_desc':'CENSUS',\n",
        "     'sector_desc': 'ECONOMICS',\n",
        "     'group_desc': 'INCOME',\n",
        "\t   'commodity_desc':'INCOME, NET CASH FARM',\n",
        "\t   'domain_desc' : 'TOTAL',\n",
        "\t   'agg_level_desc':'COUNTY',\n",
        "\t   'year':years,\n",
        "\t   'format':'JSON',\n",
        "          }\n",
        "\n",
        "#Items of interest\n",
        "item = ['INCOME, NET CASH FARM, OF OPERATORS - OPERATIONS WITH GAIN',\n",
        "       'INCOME, NET CASH FARM, OF OPERATORS - OPERATIONS WITH LOSS']\n",
        "\n",
        "#Empty df to store results\n",
        "df_all = pd.DataFrame()\n",
        "\n",
        "#Loop through each item and request payload (takes a few seconds)\n",
        "for i in item:\n",
        "    payload['short_desc'] = i\n",
        "    r = requests.get('http://quickstats.nass.usda.gov/api/api_GET/?key='+api_key, params = payload)\n",
        "    df = pd.read_json(json.dumps(r.json()),orient='split')\n",
        "    df_all = pd.concat([df_all, df])\n",
        "    print(i)\n",
        "    \n",
        "#Formatting\n",
        "df_all['Value'] = df_all['Value'].str.replace(',','')\n",
        "df_all['Value'] = pd.to_numeric(df_all['Value'])\n",
        "df_all = df_all[['Value', 'county_name', 'county_ansi', 'county_code', 'state_name', 'state_fips_code', 'state_ansi', 'short_desc', 'year']]\n",
        "df_county = df_all.reset_index(drop = True)"
      ],
      "execution_count": 98,
      "outputs": [
        {
          "output_type": "stream",
          "text": [
            "INCOME, NET CASH FARM, OF OPERATORS - OPERATIONS WITH GAIN\n",
            "INCOME, NET CASH FARM, OF OPERATORS - OPERATIONS WITH LOSS\n"
          ],
          "name": "stdout"
        }
      ]
    },
    {
      "cell_type": "markdown",
      "metadata": {
        "id": "Dr4AV-Y5b_eB",
        "colab_type": "text"
      },
      "source": [
        "**In order for this data to be mapped to a shapefile we need to create unique identifiers using the state and county fips code.**"
      ]
    },
    {
      "cell_type": "code",
      "metadata": {
        "id": "tVJtWBS3X8hY",
        "colab_type": "code",
        "outputId": "8e014bd5-8422-4d33-9544-6c61fd79ec87",
        "colab": {
          "base_uri": "https://localhost:8080/",
          "height": 197
        }
      },
      "source": [
        "#Create unique ID\n",
        "df_county['state_fips_code'] = df_county['state_fips_code'].astype(str).str.zfill(2)\n",
        "df_county['county_code'] = df_county['county_code'].astype(str).str.zfill(3)\n",
        "\n",
        "#Combine state and county fips code\n",
        "df_county['ID'] = df_county['state_fips_code'] + df_county['county_code']\n",
        "\n",
        "#Inspect\n",
        "df_county.head()"
      ],
      "execution_count": 99,
      "outputs": [
        {
          "output_type": "execute_result",
          "data": {
            "text/html": [
              "<div>\n",
              "<style scoped>\n",
              "    .dataframe tbody tr th:only-of-type {\n",
              "        vertical-align: middle;\n",
              "    }\n",
              "\n",
              "    .dataframe tbody tr th {\n",
              "        vertical-align: top;\n",
              "    }\n",
              "\n",
              "    .dataframe thead th {\n",
              "        text-align: right;\n",
              "    }\n",
              "</style>\n",
              "<table border=\"1\" class=\"dataframe\">\n",
              "  <thead>\n",
              "    <tr style=\"text-align: right;\">\n",
              "      <th></th>\n",
              "      <th>Value</th>\n",
              "      <th>county_name</th>\n",
              "      <th>county_ansi</th>\n",
              "      <th>county_code</th>\n",
              "      <th>state_name</th>\n",
              "      <th>state_fips_code</th>\n",
              "      <th>state_ansi</th>\n",
              "      <th>short_desc</th>\n",
              "      <th>year</th>\n",
              "      <th>ID</th>\n",
              "    </tr>\n",
              "  </thead>\n",
              "  <tbody>\n",
              "    <tr>\n",
              "      <th>0</th>\n",
              "      <td>242</td>\n",
              "      <td>COLBERT</td>\n",
              "      <td>033</td>\n",
              "      <td>033</td>\n",
              "      <td>ALABAMA</td>\n",
              "      <td>01</td>\n",
              "      <td>1</td>\n",
              "      <td>INCOME, NET CASH FARM, OF OPERATORS - OPERATIONS WITH GAIN</td>\n",
              "      <td>2012</td>\n",
              "      <td>01033</td>\n",
              "    </tr>\n",
              "    <tr>\n",
              "      <th>1</th>\n",
              "      <td>323</td>\n",
              "      <td>COLBERT</td>\n",
              "      <td>033</td>\n",
              "      <td>033</td>\n",
              "      <td>ALABAMA</td>\n",
              "      <td>01</td>\n",
              "      <td>1</td>\n",
              "      <td>INCOME, NET CASH FARM, OF OPERATORS - OPERATIONS WITH GAIN</td>\n",
              "      <td>2007</td>\n",
              "      <td>01033</td>\n",
              "    </tr>\n",
              "    <tr>\n",
              "      <th>2</th>\n",
              "      <td>236</td>\n",
              "      <td>COLBERT</td>\n",
              "      <td>033</td>\n",
              "      <td>033</td>\n",
              "      <td>ALABAMA</td>\n",
              "      <td>01</td>\n",
              "      <td>1</td>\n",
              "      <td>INCOME, NET CASH FARM, OF OPERATORS - OPERATIONS WITH GAIN</td>\n",
              "      <td>2002</td>\n",
              "      <td>01033</td>\n",
              "    </tr>\n",
              "    <tr>\n",
              "      <th>3</th>\n",
              "      <td>366</td>\n",
              "      <td>FRANKLIN</td>\n",
              "      <td>059</td>\n",
              "      <td>059</td>\n",
              "      <td>ALABAMA</td>\n",
              "      <td>01</td>\n",
              "      <td>1</td>\n",
              "      <td>INCOME, NET CASH FARM, OF OPERATORS - OPERATIONS WITH GAIN</td>\n",
              "      <td>2012</td>\n",
              "      <td>01059</td>\n",
              "    </tr>\n",
              "    <tr>\n",
              "      <th>4</th>\n",
              "      <td>475</td>\n",
              "      <td>FRANKLIN</td>\n",
              "      <td>059</td>\n",
              "      <td>059</td>\n",
              "      <td>ALABAMA</td>\n",
              "      <td>01</td>\n",
              "      <td>1</td>\n",
              "      <td>INCOME, NET CASH FARM, OF OPERATORS - OPERATIONS WITH GAIN</td>\n",
              "      <td>2007</td>\n",
              "      <td>01059</td>\n",
              "    </tr>\n",
              "  </tbody>\n",
              "</table>\n",
              "</div>"
            ],
            "text/plain": [
              "   Value county_name  ...  year     ID\n",
              "0    242     COLBERT  ...  2012  01033\n",
              "1    323     COLBERT  ...  2007  01033\n",
              "2    236     COLBERT  ...  2002  01033\n",
              "3    366    FRANKLIN  ...  2012  01059\n",
              "4    475    FRANKLIN  ...  2007  01059\n",
              "\n",
              "[5 rows x 10 columns]"
            ]
          },
          "metadata": {
            "tags": []
          },
          "execution_count": 99
        }
      ]
    },
    {
      "cell_type": "markdown",
      "metadata": {
        "id": "_NrEDV1YcRIB",
        "colab_type": "text"
      },
      "source": [
        "**We need to find the percent of operations operating at a gain in each county.**"
      ]
    },
    {
      "cell_type": "code",
      "metadata": {
        "id": "woB7gpH25-kn",
        "colab_type": "code",
        "colab": {
          "base_uri": "https://localhost:8080/",
          "height": 227
        },
        "outputId": "223248b5-000c-4478-9f78-a5cd00883cdb"
      },
      "source": [
        "#Create dictionary for values\n",
        "perc_loss_county_dict = {}\n",
        "\n",
        "#Iterate through states\n",
        "for state in df_county['state_name'].unique():\n",
        "  df_state_level = df_county[df_county['state_name'] == state]\n",
        "  \n",
        "  #Iterate through counties\n",
        "  for county in df_state_level['county_name'].unique():\n",
        "    \n",
        "    #Iterate through years\n",
        "    for y in df_state_level['year'].unique():\n",
        "      \n",
        "      #Calculate percent of operations at gain\n",
        "      df = df_state_level[(df_state_level['year'] == y) & (df_state_level['county_name'] == county)]\n",
        "      gain = df[df['short_desc'] == 'INCOME, NET CASH FARM, OF OPERATORS - OPERATIONS WITH GAIN']['Value'].values\n",
        "      loss = df[df['short_desc'] == 'INCOME, NET CASH FARM, OF OPERATORS - OPERATIONS WITH LOSS']['Value'].values\n",
        "      total = gain + loss\n",
        "      perc_loss = (loss/total)*100\n",
        "      \n",
        "      #Save values in dictionary\n",
        "      perc_loss_county_dict[(state, county, y)] = perc_loss\n",
        "\n",
        "#Formatting\n",
        "df = pd.DataFrame.from_dict(perc_loss_county_dict, orient=\"index\")\n",
        "df.index = pd.MultiIndex.from_tuples(df.index, names = ['State', 'County', 'Year'])\n",
        "df = df.rename(columns = {0:'Percent of Operations at Gain'})\n",
        "\n",
        "#Inspect\n",
        "df.head()"
      ],
      "execution_count": 100,
      "outputs": [
        {
          "output_type": "execute_result",
          "data": {
            "text/html": [
              "<div>\n",
              "<style scoped>\n",
              "    .dataframe tbody tr th:only-of-type {\n",
              "        vertical-align: middle;\n",
              "    }\n",
              "\n",
              "    .dataframe tbody tr th {\n",
              "        vertical-align: top;\n",
              "    }\n",
              "\n",
              "    .dataframe thead th {\n",
              "        text-align: right;\n",
              "    }\n",
              "</style>\n",
              "<table border=\"1\" class=\"dataframe\">\n",
              "  <thead>\n",
              "    <tr style=\"text-align: right;\">\n",
              "      <th></th>\n",
              "      <th></th>\n",
              "      <th></th>\n",
              "      <th>Percent of Operations at Gain</th>\n",
              "    </tr>\n",
              "    <tr>\n",
              "      <th>State</th>\n",
              "      <th>County</th>\n",
              "      <th>Year</th>\n",
              "      <th></th>\n",
              "    </tr>\n",
              "  </thead>\n",
              "  <tbody>\n",
              "    <tr>\n",
              "      <th rowspan=\"5\" valign=\"top\">ALABAMA</th>\n",
              "      <th rowspan=\"3\" valign=\"top\">COLBERT</th>\n",
              "      <th>2012</th>\n",
              "      <td>64.774381</td>\n",
              "    </tr>\n",
              "    <tr>\n",
              "      <th>2007</th>\n",
              "      <td>56.114130</td>\n",
              "    </tr>\n",
              "    <tr>\n",
              "      <th>2002</th>\n",
              "      <td>59.310345</td>\n",
              "    </tr>\n",
              "    <tr>\n",
              "      <th rowspan=\"2\" valign=\"top\">FRANKLIN</th>\n",
              "      <th>2012</th>\n",
              "      <td>55.636364</td>\n",
              "    </tr>\n",
              "    <tr>\n",
              "      <th>2007</th>\n",
              "      <td>50.417537</td>\n",
              "    </tr>\n",
              "  </tbody>\n",
              "</table>\n",
              "</div>"
            ],
            "text/plain": [
              "                       Percent of Operations at Gain\n",
              "State   County   Year                               \n",
              "ALABAMA COLBERT  2012                      64.774381\n",
              "                 2007                      56.114130\n",
              "                 2002                      59.310345\n",
              "        FRANKLIN 2012                      55.636364\n",
              "                 2007                      50.417537"
            ]
          },
          "metadata": {
            "tags": []
          },
          "execution_count": 100
        }
      ]
    },
    {
      "cell_type": "markdown",
      "metadata": {
        "id": "J4Lnfb3igo8i",
        "colab_type": "text"
      },
      "source": [
        "**We can save the output as a csv and use QGIS to construct a county level map of the percent of oeprations operating at a gain. We can see that there are distinct patchs of successful farming counties. A more indepth analysis may involve investigating the differences between low success areas and high success areas.**"
      ]
    },
    {
      "cell_type": "markdown",
      "metadata": {
        "id": "2fsy5iApg6PW",
        "colab_type": "text"
      },
      "source": [
        "![alt text](https://docs.google.com/uc?export=download&id=1q1LhtcKJgmuCb-FDJ9LoW8u2a4Jkw5rf)\n"
      ]
    }
  ]
}
